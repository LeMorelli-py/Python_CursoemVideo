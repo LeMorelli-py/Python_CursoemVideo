{
 "cells": [
  {
   "cell_type": "code",
   "execution_count": 1,
   "id": "d8863212",
   "metadata": {},
   "outputs": [
    {
     "name": "stdout",
     "output_type": "stream",
     "text": [
      "Digite um numero: 12\n",
      "Analisando o valor 12.0, p dobro é  24.0,  seu triplo é 36.0 e sua raiz quadrada é 3.4641016151377544\n"
     ]
    }
   ],
   "source": [
    "numero = float(input('Digite um numero: '))\n",
    "\n",
    "print(f'Analisando o valor {numero}, p dobro é  {numero * 2},  seu triplo é {numero * 3} e sua raiz quadrada é {numero ** 0.5}')"
   ]
  },
  {
   "cell_type": "code",
   "execution_count": 10,
   "id": "3fa69d09",
   "metadata": {},
   "outputs": [
    {
     "name": "stdout",
     "output_type": "stream",
     "text": [
      "Qual a medida em metros: 2\n",
      "2.0 m em cm é 200.0 e em mm 2000.0\n"
     ]
    }
   ],
   "source": [
    "metros = float(input('Qual a medida em metros: '))\n",
    "\n",
    "print(f'{metros} m em cm é {metros*100} e em mm {metros*1000}')"
   ]
  },
  {
   "cell_type": "code",
   "execution_count": 1,
   "id": "c6bda266",
   "metadata": {},
   "outputs": [
    {
     "name": "stdout",
     "output_type": "stream",
     "text": [
      "Insira um numero: 2\n",
      "Tabuada do 2\n",
      "2 x 1 = 2\n",
      "2 x 2 = 4\n",
      "2 x 3 = 6\n",
      "2 x 4 = 8\n",
      "2 x 5 = 10\n",
      "2 x 6 = 12\n",
      "2 x 7 = 14\n",
      "2 x 8 = 16\n",
      "2 x 9 = 18\n",
      "2 x 10 = 20\n"
     ]
    }
   ],
   "source": [
    "n = int(input('Insira um numero: '))\n",
    "print(f'Tabuada do {n}')\n",
    "for i in range(10):\n",
    "    print(f'{n} x {i+1} = {n * (i+1)}')"
   ]
  },
  {
   "cell_type": "code",
   "execution_count": 3,
   "id": "e62d6e93",
   "metadata": {},
   "outputs": [
    {
     "name": "stdout",
     "output_type": "stream",
     "text": [
      "Quanto dinheiro você tem na carteira: R$ 1000\n",
      "R$ 1000.0, equivalem a US$ 192.31\n"
     ]
    }
   ],
   "source": [
    "real = float(input('Quanto dinheiro você tem na carteira: R$ '))\n",
    "\n",
    "print(f'R$ {real}, equivalem a US$ {real/5.2:.2f}')"
   ]
  },
  {
   "cell_type": "code",
   "execution_count": 6,
   "id": "110ea495",
   "metadata": {},
   "outputs": [
    {
     "name": "stdout",
     "output_type": "stream",
     "text": [
      "Informe a altura da parede: 3\n",
      "Informe a largura da parede: 5\n",
      "Serão necessários 7.5 litros de tinta para pintar 15.0 m2\n"
     ]
    }
   ],
   "source": [
    "alt = float(input('Informe a altura da parede: '))\n",
    "larg = float(input('Informe a largura da parede: '))\n",
    "\n",
    "print(f'Serão necessários {(alt * larg)/2} litros de tinta para pintar {alt * larg} m2')"
   ]
  },
  {
   "cell_type": "code",
   "execution_count": 20,
   "id": "ac730f67",
   "metadata": {},
   "outputs": [
    {
     "name": "stdout",
     "output_type": "stream",
     "text": [
      "Informe o preço: 5\n",
      "O preço com desconto de 5% é de 4.75\n"
     ]
    }
   ],
   "source": [
    "preco = float(input('Informe o preço: '))\n",
    "novo_preco = preco - (preco * 0.05)\n",
    "\n",
    "print(f'O preço com desconto de 5% é de {novo_preco}')\n"
   ]
  },
  {
   "cell_type": "code",
   "execution_count": 22,
   "id": "81fadf55",
   "metadata": {},
   "outputs": [
    {
     "name": "stdout",
     "output_type": "stream",
     "text": [
      "informe o salário atual: 5\n",
      "O salário de R$ 5.0, passará para R$ 5.75, a partir do proximo mês\n"
     ]
    }
   ],
   "source": [
    "sal = float(input('informe o salário atual: '))\n",
    "novo_sal = sal + (sal * 0.15)\n",
    "\n",
    "print(f'O salário de R$ {sal}, passará para R$ {novo_sal}, a partir do proximo mês')"
   ]
  },
  {
   "cell_type": "code",
   "execution_count": 25,
   "id": "de098021",
   "metadata": {},
   "outputs": [
    {
     "name": "stdout",
     "output_type": "stream",
     "text": [
      "Infome a temperatura em ºC: 25\n",
      "A temperatura 25.0ºC em Farenheit é 77.0ºF\n"
     ]
    }
   ],
   "source": [
    "C = float(input('Infome a temperatura em ºC: '))\n",
    "F = (C * 1.8) + 32\n",
    "print(f'A temperatura {C}ºC em Farenheit é {F}ºF')"
   ]
  },
  {
   "cell_type": "code",
   "execution_count": 2,
   "id": "41d799fb",
   "metadata": {},
   "outputs": [
    {
     "name": "stdout",
     "output_type": "stream",
     "text": [
      "Quantos Km foram percorridos? 500\n",
      "Em quantos dias? 2\n",
      "Em 2.0 dias, foram rodados 500.0km, a um custo total de R$195.00\n"
     ]
    }
   ],
   "source": [
    "km = float(input('Quantos Km foram percorridos? '))\n",
    "dias = float(input('Em quantos dias? '))\n",
    "diaria = dias * 60\n",
    "km_rodado = km * 0.15\n",
    "total = diaria + km_rodado\n",
    "print(f'Em {dias} dias, foram rodados {km}km, a um custo total de R${total:.2f}')"
   ]
  },
  {
   "cell_type": "code",
   "execution_count": 33,
   "id": "d8a323be",
   "metadata": {},
   "outputs": [
    {
     "name": "stdout",
     "output_type": "stream",
     "text": [
      "Informe um numero Real: 3.265\n",
      "O numero digitado foi 1000.0 e sua parte inteira é 3\n"
     ]
    }
   ],
   "source": [
    "import math\n",
    "Real = float(input('Informe um numero Real: '))\n",
    "print(f'O numero digitado foi {Real} e sua parte inteira é {math.trunc(Real)}')"
   ]
  },
  {
   "cell_type": "code",
   "execution_count": 1,
   "id": "bb3a27c6",
   "metadata": {},
   "outputs": [
    {
     "name": "stdout",
     "output_type": "stream",
     "text": [
      "Informe um numero Real: 3.14151630\n",
      "O numero digitado foi 3.1415163 e sua parte inteira é 3\n"
     ]
    }
   ],
   "source": [
    "from math import trunc\n",
    "Real = float(input('Informe um numero Real: '))\n",
    "print(f'O numero digitado foi {Real} e sua parte inteira é {trunc(Real)}')"
   ]
  },
  {
   "cell_type": "code",
   "execution_count": 38,
   "id": "c4c9b536",
   "metadata": {},
   "outputs": [
    {
     "name": "stdout",
     "output_type": "stream",
     "text": [
      "Informe um numero Real: 5\n",
      "O numero digitado foi 5.0 e sua parte inteira é 5\n"
     ]
    }
   ],
   "source": [
    "Real = float(input('Informe um numero Real: '))\n",
    "print(f'O numero digitado foi {Real} e sua parte inteira é {int(Real)}')"
   ]
  },
  {
   "cell_type": "code",
   "execution_count": 49,
   "id": "39ab9749",
   "metadata": {},
   "outputs": [
    {
     "name": "stdout",
     "output_type": "stream",
     "text": [
      "informe a medida do cateto oposto: 34\n",
      "infome a medida do cateto adjascente: 413\n",
      "A medida da hipotenusa é 414.40\n"
     ]
    }
   ],
   "source": [
    "#forma matemática, sem importações\n",
    "from math import pow\n",
    "cat1 = float(input('informe a medida do cateto oposto: '))\n",
    "cat2 = float(input('infome a medida do cateto adjascente: '))\n",
    "hip  = (cat1**2 + cat2**2) ** (1/2)\n",
    "\n",
    "print(f'A medida da hipotenusa é {hip:.2f}')\n"
   ]
  },
  {
   "cell_type": "code",
   "execution_count": 52,
   "id": "cb4ba77b",
   "metadata": {},
   "outputs": [
    {
     "name": "stdout",
     "output_type": "stream",
     "text": [
      "informe a medida do cateto oposto: 3\n",
      "infome a medida do cateto adjascente: 4\n",
      "A medida da hipotenusa é: 5.00\n"
     ]
    }
   ],
   "source": [
    "#importando a biblioteca math\n",
    "import math\n",
    "#ou from math import hypot\n",
    "cat1 = float(input('informe a medida do cateto oposto: '))\n",
    "cat2 = float(input('infome a medida do cateto adjascente: '))\n",
    "hip = math.hypot(cat1, cat2)\n",
    "\n",
    "print(f'A medida da hipotenusa é: {hip:.2f}')"
   ]
  },
  {
   "cell_type": "code",
   "execution_count": 63,
   "id": "aea0a1f1",
   "metadata": {},
   "outputs": [
    {
     "name": "stdout",
     "output_type": "stream",
     "text": [
      "Infome um angulo: 45\n",
      "O seno de 45.0 é 0.71\n",
      "O cosseno de 45.0 é 0.71\n",
      "A Tangente de 45.0 é 1.00\n"
     ]
    }
   ],
   "source": [
    "import math\n",
    "#from math import radians, sin, cos, tan\n",
    "ang = float(input('Infome um angulo: '))\n",
    "sen = math.sin(math.radians(ang))\n",
    "cos = math.cos(math.radians(ang))\n",
    "tan = math.tan(math.radians(ang))\n",
    "\n",
    "print(f'O seno de {ang} é {sen:.2f}')\n",
    "print(f'O cosseno de {ang} é {cos:.2f}')\n",
    "print(f'A Tangente de {ang} é {tan:.2f}')"
   ]
  },
  {
   "cell_type": "code",
   "execution_count": 66,
   "id": "ccd5c838",
   "metadata": {},
   "outputs": [
    {
     "name": "stdout",
     "output_type": "stream",
     "text": [
      "Primeiro aluno: and\n",
      "Segundo aluno: fd\n",
      "Terceiro aluno: avs\n",
      "Quarto aluno: vf\n",
      "O aluno escolhido foi and\n"
     ]
    }
   ],
   "source": [
    "import random\n",
    "a1 = input('Primeiro aluno: ')\n",
    "a2 = input('Segundo aluno: ')\n",
    "a3 = input('Terceiro aluno: ')\n",
    "a4 = input('Quarto aluno: ')\n",
    "lista = [a1, a2, a3, a4]\n",
    "escolhido = random.choice(lista)\n",
    "print(f'O aluno escolhido foi {escolhido}')"
   ]
  },
  {
   "cell_type": "code",
   "execution_count": 15,
   "id": "c6fd8eef",
   "metadata": {},
   "outputs": [
    {
     "name": "stdout",
     "output_type": "stream",
     "text": [
      "Primeiro aluno: Leandro Morelli\n"
     ]
    },
    {
     "ename": "KeyboardInterrupt",
     "evalue": "Interrupted by user",
     "output_type": "error",
     "traceback": [
      "\u001b[1;31m---------------------------------------------------------------------------\u001b[0m",
      "\u001b[1;31mKeyboardInterrupt\u001b[0m                         Traceback (most recent call last)",
      "\u001b[1;32m~\\AppData\\Local\\Temp\\ipykernel_36992\\1424034269.py\u001b[0m in \u001b[0;36m<module>\u001b[1;34m\u001b[0m\n\u001b[0;32m      1\u001b[0m \u001b[1;32mimport\u001b[0m \u001b[0mrandom\u001b[0m\u001b[1;33m\u001b[0m\u001b[1;33m\u001b[0m\u001b[0m\n\u001b[0;32m      2\u001b[0m \u001b[0ma1\u001b[0m \u001b[1;33m=\u001b[0m \u001b[0minput\u001b[0m\u001b[1;33m(\u001b[0m\u001b[1;34m'Primeiro aluno: '\u001b[0m\u001b[1;33m)\u001b[0m\u001b[1;33m\u001b[0m\u001b[1;33m\u001b[0m\u001b[0m\n\u001b[1;32m----> 3\u001b[1;33m \u001b[0ma2\u001b[0m \u001b[1;33m=\u001b[0m \u001b[0minput\u001b[0m\u001b[1;33m(\u001b[0m\u001b[1;34m'Segundo aluno: '\u001b[0m\u001b[1;33m)\u001b[0m\u001b[1;33m\u001b[0m\u001b[1;33m\u001b[0m\u001b[0m\n\u001b[0m\u001b[0;32m      4\u001b[0m \u001b[0ma3\u001b[0m \u001b[1;33m=\u001b[0m \u001b[0minput\u001b[0m\u001b[1;33m(\u001b[0m\u001b[1;34m'Terceiro aluno: '\u001b[0m\u001b[1;33m)\u001b[0m\u001b[1;33m\u001b[0m\u001b[1;33m\u001b[0m\u001b[0m\n\u001b[0;32m      5\u001b[0m \u001b[0ma4\u001b[0m \u001b[1;33m=\u001b[0m \u001b[0minput\u001b[0m\u001b[1;33m(\u001b[0m\u001b[1;34m'Quarto aluno: '\u001b[0m\u001b[1;33m)\u001b[0m\u001b[1;33m\u001b[0m\u001b[1;33m\u001b[0m\u001b[0m\n",
      "\u001b[1;32m~\\anaconda3\\lib\\site-packages\\ipykernel\\kernelbase.py\u001b[0m in \u001b[0;36mraw_input\u001b[1;34m(self, prompt)\u001b[0m\n\u001b[0;32m   1175\u001b[0m                 \u001b[1;34m\"raw_input was called, but this frontend does not support input requests.\"\u001b[0m\u001b[1;33m\u001b[0m\u001b[1;33m\u001b[0m\u001b[0m\n\u001b[0;32m   1176\u001b[0m             )\n\u001b[1;32m-> 1177\u001b[1;33m         return self._input_request(\n\u001b[0m\u001b[0;32m   1178\u001b[0m             \u001b[0mstr\u001b[0m\u001b[1;33m(\u001b[0m\u001b[0mprompt\u001b[0m\u001b[1;33m)\u001b[0m\u001b[1;33m,\u001b[0m\u001b[1;33m\u001b[0m\u001b[1;33m\u001b[0m\u001b[0m\n\u001b[0;32m   1179\u001b[0m             \u001b[0mself\u001b[0m\u001b[1;33m.\u001b[0m\u001b[0m_parent_ident\u001b[0m\u001b[1;33m[\u001b[0m\u001b[1;34m\"shell\"\u001b[0m\u001b[1;33m]\u001b[0m\u001b[1;33m,\u001b[0m\u001b[1;33m\u001b[0m\u001b[1;33m\u001b[0m\u001b[0m\n",
      "\u001b[1;32m~\\anaconda3\\lib\\site-packages\\ipykernel\\kernelbase.py\u001b[0m in \u001b[0;36m_input_request\u001b[1;34m(self, prompt, ident, parent, password)\u001b[0m\n\u001b[0;32m   1217\u001b[0m             \u001b[1;32mexcept\u001b[0m \u001b[0mKeyboardInterrupt\u001b[0m\u001b[1;33m:\u001b[0m\u001b[1;33m\u001b[0m\u001b[1;33m\u001b[0m\u001b[0m\n\u001b[0;32m   1218\u001b[0m                 \u001b[1;31m# re-raise KeyboardInterrupt, to truncate traceback\u001b[0m\u001b[1;33m\u001b[0m\u001b[1;33m\u001b[0m\u001b[0m\n\u001b[1;32m-> 1219\u001b[1;33m                 \u001b[1;32mraise\u001b[0m \u001b[0mKeyboardInterrupt\u001b[0m\u001b[1;33m(\u001b[0m\u001b[1;34m\"Interrupted by user\"\u001b[0m\u001b[1;33m)\u001b[0m \u001b[1;32mfrom\u001b[0m \u001b[1;32mNone\u001b[0m\u001b[1;33m\u001b[0m\u001b[1;33m\u001b[0m\u001b[0m\n\u001b[0m\u001b[0;32m   1220\u001b[0m             \u001b[1;32mexcept\u001b[0m \u001b[0mException\u001b[0m\u001b[1;33m:\u001b[0m\u001b[1;33m\u001b[0m\u001b[1;33m\u001b[0m\u001b[0m\n\u001b[0;32m   1221\u001b[0m                 \u001b[0mself\u001b[0m\u001b[1;33m.\u001b[0m\u001b[0mlog\u001b[0m\u001b[1;33m.\u001b[0m\u001b[0mwarning\u001b[0m\u001b[1;33m(\u001b[0m\u001b[1;34m\"Invalid Message:\"\u001b[0m\u001b[1;33m,\u001b[0m \u001b[0mexc_info\u001b[0m\u001b[1;33m=\u001b[0m\u001b[1;32mTrue\u001b[0m\u001b[1;33m)\u001b[0m\u001b[1;33m\u001b[0m\u001b[1;33m\u001b[0m\u001b[0m\n",
      "\u001b[1;31mKeyboardInterrupt\u001b[0m: Interrupted by user"
     ]
    }
   ],
   "source": [
    "import random\n",
    "a1 = input('Primeiro aluno: ')\n",
    "a2 = input('Segundo aluno: ')\n",
    "a3 = input('Terceiro aluno: ')\n",
    "a4 = input('Quarto aluno: ')\n",
    "lista = [a1, a2, a3, a4]\n",
    "escolhido = random.shuffle(lista)\n",
    "print(lista)"
   ]
  },
  {
   "cell_type": "code",
   "execution_count": 31,
   "id": "ac5777eb",
   "metadata": {},
   "outputs": [
    {
     "name": "stdout",
     "output_type": "stream",
     "text": [
      "Qual o seu nome? Leandro Coneglian Morelli\n",
      "O nome em letra MAIUSCULA é : LEANDRO CONEGLIAN MORELLI\n",
      "O nome em letra minuscula é : leandro coneglian morelli\n",
      "A quantidade de caracteres é : 23 letras\n",
      "Seu primeiro nome tem : 7 letras\n"
     ]
    }
   ],
   "source": [
    "nome = input('Qual o seu nome? ').strip()\n",
    "print(f'O nome em letra MAIUSCULA é : {nome.upper()}')\n",
    "print(f'O nome em letra minuscula é : {nome.lower()}')\n",
    "print('A quantidade de caracteres é : {} letras'.format(len(nome) - nome.count(' ')))\n",
    "print('Seu primeiro nome tem : {} letras' .format(nome.find(' ')))"
   ]
  },
  {
   "cell_type": "code",
   "execution_count": 36,
   "id": "ce9f6e67",
   "metadata": {
    "scrolled": true
   },
   "outputs": [
    {
     "ename": "KeyboardInterrupt",
     "evalue": "Interrupted by user",
     "output_type": "error",
     "traceback": [
      "\u001b[1;31m---------------------------------------------------------------------------\u001b[0m",
      "\u001b[1;31mKeyboardInterrupt\u001b[0m                         Traceback (most recent call last)",
      "\u001b[1;32m~\\AppData\\Local\\Temp\\ipykernel_36992\\1561983344.py\u001b[0m in \u001b[0;36m<module>\u001b[1;34m\u001b[0m\n\u001b[1;32m----> 1\u001b[1;33m \u001b[0mnome\u001b[0m \u001b[1;33m=\u001b[0m \u001b[0minput\u001b[0m\u001b[1;33m(\u001b[0m\u001b[1;34m'Qual o seu nome? '\u001b[0m\u001b[1;33m)\u001b[0m\u001b[1;33m.\u001b[0m\u001b[0mstrip\u001b[0m\u001b[1;33m(\u001b[0m\u001b[1;33m)\u001b[0m\u001b[1;33m\u001b[0m\u001b[1;33m\u001b[0m\u001b[0m\n\u001b[0m\u001b[0;32m      2\u001b[0m \u001b[0mprint\u001b[0m\u001b[1;33m(\u001b[0m\u001b[1;34mf'O nome em letra MAIUSCULA é : {nome.upper()}'\u001b[0m\u001b[1;33m)\u001b[0m\u001b[1;33m\u001b[0m\u001b[1;33m\u001b[0m\u001b[0m\n\u001b[0;32m      3\u001b[0m \u001b[0mprint\u001b[0m\u001b[1;33m(\u001b[0m\u001b[1;34mf'O nome em letra minuscula é : {nome.lower()}'\u001b[0m\u001b[1;33m)\u001b[0m\u001b[1;33m\u001b[0m\u001b[1;33m\u001b[0m\u001b[0m\n\u001b[0;32m      4\u001b[0m \u001b[0mprint\u001b[0m\u001b[1;33m(\u001b[0m\u001b[1;34m'A quantidade de caracteres é : {} letras'\u001b[0m\u001b[1;33m.\u001b[0m\u001b[0mformat\u001b[0m\u001b[1;33m(\u001b[0m\u001b[0mlen\u001b[0m\u001b[1;33m(\u001b[0m\u001b[0mnome\u001b[0m\u001b[1;33m)\u001b[0m \u001b[1;33m-\u001b[0m \u001b[0mnome\u001b[0m\u001b[1;33m.\u001b[0m\u001b[0mcount\u001b[0m\u001b[1;33m(\u001b[0m\u001b[1;34m' '\u001b[0m\u001b[1;33m)\u001b[0m\u001b[1;33m)\u001b[0m\u001b[1;33m)\u001b[0m\u001b[1;33m\u001b[0m\u001b[1;33m\u001b[0m\u001b[0m\n\u001b[0;32m      5\u001b[0m \u001b[0msepara\u001b[0m \u001b[1;33m=\u001b[0m \u001b[0mnome\u001b[0m\u001b[1;33m.\u001b[0m\u001b[0msplit\u001b[0m\u001b[1;33m(\u001b[0m\u001b[1;33m)\u001b[0m\u001b[1;33m\u001b[0m\u001b[1;33m\u001b[0m\u001b[0m\n",
      "\u001b[1;32m~\\anaconda3\\lib\\site-packages\\ipykernel\\kernelbase.py\u001b[0m in \u001b[0;36mraw_input\u001b[1;34m(self, prompt)\u001b[0m\n\u001b[0;32m   1175\u001b[0m                 \u001b[1;34m\"raw_input was called, but this frontend does not support input requests.\"\u001b[0m\u001b[1;33m\u001b[0m\u001b[1;33m\u001b[0m\u001b[0m\n\u001b[0;32m   1176\u001b[0m             )\n\u001b[1;32m-> 1177\u001b[1;33m         return self._input_request(\n\u001b[0m\u001b[0;32m   1178\u001b[0m             \u001b[0mstr\u001b[0m\u001b[1;33m(\u001b[0m\u001b[0mprompt\u001b[0m\u001b[1;33m)\u001b[0m\u001b[1;33m,\u001b[0m\u001b[1;33m\u001b[0m\u001b[1;33m\u001b[0m\u001b[0m\n\u001b[0;32m   1179\u001b[0m             \u001b[0mself\u001b[0m\u001b[1;33m.\u001b[0m\u001b[0m_parent_ident\u001b[0m\u001b[1;33m[\u001b[0m\u001b[1;34m\"shell\"\u001b[0m\u001b[1;33m]\u001b[0m\u001b[1;33m,\u001b[0m\u001b[1;33m\u001b[0m\u001b[1;33m\u001b[0m\u001b[0m\n",
      "\u001b[1;32m~\\anaconda3\\lib\\site-packages\\ipykernel\\kernelbase.py\u001b[0m in \u001b[0;36m_input_request\u001b[1;34m(self, prompt, ident, parent, password)\u001b[0m\n\u001b[0;32m   1217\u001b[0m             \u001b[1;32mexcept\u001b[0m \u001b[0mKeyboardInterrupt\u001b[0m\u001b[1;33m:\u001b[0m\u001b[1;33m\u001b[0m\u001b[1;33m\u001b[0m\u001b[0m\n\u001b[0;32m   1218\u001b[0m                 \u001b[1;31m# re-raise KeyboardInterrupt, to truncate traceback\u001b[0m\u001b[1;33m\u001b[0m\u001b[1;33m\u001b[0m\u001b[0m\n\u001b[1;32m-> 1219\u001b[1;33m                 \u001b[1;32mraise\u001b[0m \u001b[0mKeyboardInterrupt\u001b[0m\u001b[1;33m(\u001b[0m\u001b[1;34m\"Interrupted by user\"\u001b[0m\u001b[1;33m)\u001b[0m \u001b[1;32mfrom\u001b[0m \u001b[1;32mNone\u001b[0m\u001b[1;33m\u001b[0m\u001b[1;33m\u001b[0m\u001b[0m\n\u001b[0m\u001b[0;32m   1220\u001b[0m             \u001b[1;32mexcept\u001b[0m \u001b[0mException\u001b[0m\u001b[1;33m:\u001b[0m\u001b[1;33m\u001b[0m\u001b[1;33m\u001b[0m\u001b[0m\n\u001b[0;32m   1221\u001b[0m                 \u001b[0mself\u001b[0m\u001b[1;33m.\u001b[0m\u001b[0mlog\u001b[0m\u001b[1;33m.\u001b[0m\u001b[0mwarning\u001b[0m\u001b[1;33m(\u001b[0m\u001b[1;34m\"Invalid Message:\"\u001b[0m\u001b[1;33m,\u001b[0m \u001b[0mexc_info\u001b[0m\u001b[1;33m=\u001b[0m\u001b[1;32mTrue\u001b[0m\u001b[1;33m)\u001b[0m\u001b[1;33m\u001b[0m\u001b[1;33m\u001b[0m\u001b[0m\n",
      "\u001b[1;31mKeyboardInterrupt\u001b[0m: Interrupted by user"
     ]
    }
   ],
   "source": [
    "nome = input('Qual o seu nome? ').strip()\n",
    "print(f'O nome em letra MAIUSCULA é : {nome.upper()}')\n",
    "print(f'O nome em letra minuscula é : {nome.lower()}')\n",
    "print('A quantidade de caracteres é : {} letras'.format(len(nome) - nome.count(' ')))\n",
    "separa = nome.split()\n",
    "print(f'Seu primeiro nome é {separa[0]} e ele tem {len(separa[0])} letras')"
   ]
  },
  {
   "cell_type": "code",
   "execution_count": 44,
   "id": "7caede05",
   "metadata": {},
   "outputs": [
    {
     "ename": "KeyboardInterrupt",
     "evalue": "Interrupted by user",
     "output_type": "error",
     "traceback": [
      "\u001b[1;31m---------------------------------------------------------------------------\u001b[0m",
      "\u001b[1;31mKeyboardInterrupt\u001b[0m                         Traceback (most recent call last)",
      "\u001b[1;32m~\\AppData\\Local\\Temp\\ipykernel_36992\\554214945.py\u001b[0m in \u001b[0;36m<module>\u001b[1;34m\u001b[0m\n\u001b[1;32m----> 1\u001b[1;33m \u001b[0mnumero\u001b[0m \u001b[1;33m=\u001b[0m \u001b[0mint\u001b[0m\u001b[1;33m(\u001b[0m\u001b[0minput\u001b[0m\u001b[1;33m(\u001b[0m\u001b[1;34m'Informe um numero: '\u001b[0m\u001b[1;33m)\u001b[0m\u001b[1;33m)\u001b[0m\u001b[1;33m\u001b[0m\u001b[1;33m\u001b[0m\u001b[0m\n\u001b[0m\u001b[0;32m      2\u001b[0m \u001b[0mu\u001b[0m \u001b[1;33m=\u001b[0m \u001b[0mnumero\u001b[0m \u001b[1;33m//\u001b[0m \u001b[1;36m1\u001b[0m \u001b[1;33m%\u001b[0m \u001b[1;36m10\u001b[0m\u001b[1;33m\u001b[0m\u001b[1;33m\u001b[0m\u001b[0m\n\u001b[0;32m      3\u001b[0m \u001b[0md\u001b[0m \u001b[1;33m=\u001b[0m \u001b[0mnumero\u001b[0m \u001b[1;33m//\u001b[0m \u001b[1;36m10\u001b[0m \u001b[1;33m%\u001b[0m \u001b[1;36m10\u001b[0m\u001b[1;33m\u001b[0m\u001b[1;33m\u001b[0m\u001b[0m\n\u001b[0;32m      4\u001b[0m \u001b[0mc\u001b[0m \u001b[1;33m=\u001b[0m \u001b[0mnumero\u001b[0m \u001b[1;33m//\u001b[0m \u001b[1;36m100\u001b[0m \u001b[1;33m%\u001b[0m \u001b[1;36m10\u001b[0m\u001b[1;33m\u001b[0m\u001b[1;33m\u001b[0m\u001b[0m\n\u001b[0;32m      5\u001b[0m \u001b[0mm\u001b[0m \u001b[1;33m=\u001b[0m \u001b[0mnumero\u001b[0m \u001b[1;33m//\u001b[0m \u001b[1;36m1000\u001b[0m \u001b[1;33m%\u001b[0m \u001b[1;36m10\u001b[0m\u001b[1;33m\u001b[0m\u001b[1;33m\u001b[0m\u001b[0m\n",
      "\u001b[1;32m~\\anaconda3\\lib\\site-packages\\ipykernel\\kernelbase.py\u001b[0m in \u001b[0;36mraw_input\u001b[1;34m(self, prompt)\u001b[0m\n\u001b[0;32m   1175\u001b[0m                 \u001b[1;34m\"raw_input was called, but this frontend does not support input requests.\"\u001b[0m\u001b[1;33m\u001b[0m\u001b[1;33m\u001b[0m\u001b[0m\n\u001b[0;32m   1176\u001b[0m             )\n\u001b[1;32m-> 1177\u001b[1;33m         return self._input_request(\n\u001b[0m\u001b[0;32m   1178\u001b[0m             \u001b[0mstr\u001b[0m\u001b[1;33m(\u001b[0m\u001b[0mprompt\u001b[0m\u001b[1;33m)\u001b[0m\u001b[1;33m,\u001b[0m\u001b[1;33m\u001b[0m\u001b[1;33m\u001b[0m\u001b[0m\n\u001b[0;32m   1179\u001b[0m             \u001b[0mself\u001b[0m\u001b[1;33m.\u001b[0m\u001b[0m_parent_ident\u001b[0m\u001b[1;33m[\u001b[0m\u001b[1;34m\"shell\"\u001b[0m\u001b[1;33m]\u001b[0m\u001b[1;33m,\u001b[0m\u001b[1;33m\u001b[0m\u001b[1;33m\u001b[0m\u001b[0m\n",
      "\u001b[1;32m~\\anaconda3\\lib\\site-packages\\ipykernel\\kernelbase.py\u001b[0m in \u001b[0;36m_input_request\u001b[1;34m(self, prompt, ident, parent, password)\u001b[0m\n\u001b[0;32m   1217\u001b[0m             \u001b[1;32mexcept\u001b[0m \u001b[0mKeyboardInterrupt\u001b[0m\u001b[1;33m:\u001b[0m\u001b[1;33m\u001b[0m\u001b[1;33m\u001b[0m\u001b[0m\n\u001b[0;32m   1218\u001b[0m                 \u001b[1;31m# re-raise KeyboardInterrupt, to truncate traceback\u001b[0m\u001b[1;33m\u001b[0m\u001b[1;33m\u001b[0m\u001b[0m\n\u001b[1;32m-> 1219\u001b[1;33m                 \u001b[1;32mraise\u001b[0m \u001b[0mKeyboardInterrupt\u001b[0m\u001b[1;33m(\u001b[0m\u001b[1;34m\"Interrupted by user\"\u001b[0m\u001b[1;33m)\u001b[0m \u001b[1;32mfrom\u001b[0m \u001b[1;32mNone\u001b[0m\u001b[1;33m\u001b[0m\u001b[1;33m\u001b[0m\u001b[0m\n\u001b[0m\u001b[0;32m   1220\u001b[0m             \u001b[1;32mexcept\u001b[0m \u001b[0mException\u001b[0m\u001b[1;33m:\u001b[0m\u001b[1;33m\u001b[0m\u001b[1;33m\u001b[0m\u001b[0m\n\u001b[0;32m   1221\u001b[0m                 \u001b[0mself\u001b[0m\u001b[1;33m.\u001b[0m\u001b[0mlog\u001b[0m\u001b[1;33m.\u001b[0m\u001b[0mwarning\u001b[0m\u001b[1;33m(\u001b[0m\u001b[1;34m\"Invalid Message:\"\u001b[0m\u001b[1;33m,\u001b[0m \u001b[0mexc_info\u001b[0m\u001b[1;33m=\u001b[0m\u001b[1;32mTrue\u001b[0m\u001b[1;33m)\u001b[0m\u001b[1;33m\u001b[0m\u001b[1;33m\u001b[0m\u001b[0m\n",
      "\u001b[1;31mKeyboardInterrupt\u001b[0m: Interrupted by user"
     ]
    }
   ],
   "source": [
    "numero = int(input('Informe um numero: '))\n",
    "u = numero // 1 % 10\n",
    "d = numero // 10 % 10\n",
    "c = numero // 100 % 10\n",
    "m = numero // 1000 % 10\n",
    "\n",
    "print('Analisando o número:')\n",
    "print(f'Milhar: {m}')\n",
    "print(f'Centena: {c}')\n",
    "print(f'Dezena: {d}')\n",
    "print(f'Unidade: {u}')\n",
    "\n"
   ]
  },
  {
   "cell_type": "code",
   "execution_count": 58,
   "id": "eda76537",
   "metadata": {},
   "outputs": [
    {
     "name": "stdout",
     "output_type": "stream",
     "text": [
      "Qual a cidade que você nasceu: ribeiro\n",
      "False\n"
     ]
    }
   ],
   "source": [
    "city = input('Qual a cidade que você nasceu: ').strip()\n",
    "print(city[:5].upper() == 'SANTO')\n"
   ]
  },
  {
   "cell_type": "code",
   "execution_count": 81,
   "id": "a020d089",
   "metadata": {},
   "outputs": [
    {
     "name": "stdout",
     "output_type": "stream",
     "text": [
      "Digite o seu nome completo: \n",
      "Seu nome tem silva? False\n"
     ]
    }
   ],
   "source": [
    "nome = str(input('Digite o seu nome completo: ')).strip()\n",
    "print('Seu nome tem silva? {}'.format('silva' in nome.lower()))"
   ]
  },
  {
   "cell_type": "code",
   "execution_count": 89,
   "id": "2d674747",
   "metadata": {},
   "outputs": [
    {
     "name": "stdout",
     "output_type": "stream",
     "text": [
      "Digite uma frase: \n",
      "A aparece 0 vezes na frase. \n",
      "A primeira letra a apareceu na posição 0\n",
      "A ultima letra a apareceu na posiçao 0\n"
     ]
    }
   ],
   "source": [
    "frase = str(input('Digite uma frase: ')).upper().strip()\n",
    "print('A aparece {} vezes na frase. '.format(frase.count('A')))\n",
    "print('A primeira letra a apareceu na posição {}'.format(frase.find('A')+1))\n",
    "print('A ultima letra a apareceu na posiçao {}'.format(frase.rfind('A')+1))"
   ]
  },
  {
   "cell_type": "code",
   "execution_count": 96,
   "id": "025a9e12",
   "metadata": {},
   "outputs": [
    {
     "name": "stdout",
     "output_type": "stream",
     "text": [
      "Qual seu nome completo? lean\n",
      "Seu primeiro nome é lean\n",
      "Seu ultimo nome e lean\n"
     ]
    }
   ],
   "source": [
    "n = str(input('Qual seu nome completo? ')).strip()\n",
    "nome = n.split()\n",
    "print('Seu primeiro nome é {}'.format(nome[0]))\n",
    "print('Seu ultimo nome e {}'.format(nome[-1]))"
   ]
  },
  {
   "cell_type": "code",
   "execution_count": 125,
   "id": "e32b160f",
   "metadata": {},
   "outputs": [
    {
     "name": "stdout",
     "output_type": "stream",
     "text": [
      "-=--=--=--=--=--=--=--=--=--=--=--=--=--=--=--=--=--=--=--=-\n",
      "Pensei em um numero entre 0 e 5, Adivinhe qual é: \n",
      "-=--=--=--=--=--=--=--=--=--=--=--=--=--=--=--=--=--=--=--=-\n",
      "Em que número eu pensei? 25\n",
      "PERDEU\n",
      "O numero era 2\n"
     ]
    }
   ],
   "source": [
    "from random import randint\n",
    "from time import sleep\n",
    "computador = randint(0, 5)\n",
    "print('-=-' * 20)\n",
    "print('Pensei em um numero entre 0 e 5, Adivinhe qual é: ')\n",
    "print('-=-' * 20)\n",
    "jogador = int(input('Em que número eu pensei? '))\n",
    "sleep(5)\n",
    "if jogador == computador:\n",
    "    print('ACERTOU')\n",
    "else:\n",
    "    print('PERDEU')\n",
    "    \n",
    "print(f'O numero era {computador}')"
   ]
  },
  {
   "cell_type": "code",
   "execution_count": 1,
   "id": "c8ab1f5b",
   "metadata": {},
   "outputs": [
    {
     "name": "stdout",
     "output_type": "stream",
     "text": [
      "Qual velocidade passou pelo radar? 511\n",
      "Você foi multado\n",
      "Sua multa será de R$3017.00\n"
     ]
    }
   ],
   "source": [
    "vel = int(input('Qual velocidade passou pelo radar? '))\n",
    "exc = vel - 80\n",
    "if vel > 80:\n",
    "    print('Você foi multado')\n",
    "    multa = exc * 7\n",
    "    print(f'Sua multa será de R${multa:.2f}')\n",
    "else:\n",
    "    print(f'Você passou a {vel} km/h, está dentro do limite e não será multado')"
   ]
  },
  {
   "cell_type": "code",
   "execution_count": 16,
   "id": "8914b7e7",
   "metadata": {},
   "outputs": [
    {
     "name": "stdout",
     "output_type": "stream",
     "text": [
      "Insira um número: 2\n",
      "O numero 2 é par\n"
     ]
    }
   ],
   "source": [
    "num = int(input('Insira um número: '))\n",
    "\n",
    "if num % 2:\n",
    "    print(f'O numero {num} é impar')\n",
    "else:\n",
    "    print(f'O numero {num} é par')"
   ]
  },
  {
   "cell_type": "code",
   "execution_count": 23,
   "id": "70b6848e",
   "metadata": {},
   "outputs": [
    {
     "name": "stdout",
     "output_type": "stream",
     "text": [
      "Qual a distancia em KM até o destino? 20\n",
      "A viagem terá 20km e a passagem custará R$10.00\n"
     ]
    }
   ],
   "source": [
    "km = int(input('Qual a distancia em KM até o destino? '))\n",
    "if km >= 200:\n",
    "    passagem = 0.45 * km\n",
    "else:\n",
    "    passagem = 0.5 * km\n",
    "    \n",
    "print(f'A viagem terá {km}km e a passagem custará R${passagem:.2f}')\n"
   ]
  },
  {
   "cell_type": "code",
   "execution_count": 40,
   "id": "384d0bd8",
   "metadata": {},
   "outputs": [
    {
     "name": "stdout",
     "output_type": "stream",
     "text": [
      "Informe o ano: 2023\n",
      "O ano 2023, não é BISSEXTO!!\n"
     ]
    }
   ],
   "source": [
    "from datetime import date\n",
    "ano = int(input('Informe o ano: '))\n",
    "\n",
    "if ano == 0:\n",
    "    ano = date.today().year\n",
    "if ano % 4 == 0 and ano % 100 != 0 or ano % 400 == 0:\n",
    "    print(f'O ano {ano}, é BISSEXTO!!')\n",
    "\n",
    "else:\n",
    "    print(f'O ano {ano}, não é BISSEXTO!!')"
   ]
  },
  {
   "cell_type": "code",
   "execution_count": 50,
   "id": "9f30d1a1",
   "metadata": {},
   "outputs": [
    {
     "name": "stdout",
     "output_type": "stream",
     "text": [
      "Insira o primeiro numero: 15\n",
      "Insira o segundo numero: 30\n",
      "Insira o terceiro numero: 60\n",
      "O maior número é 60\n",
      "O menor é o 15\n"
     ]
    }
   ],
   "source": [
    "n1 = int(input('Insira o primeiro numero: '))\n",
    "n2 = int(input('Insira o segundo numero: '))\n",
    "n3 = int(input('Insira o terceiro numero: '))\n",
    "\n",
    "if n1 > n2 and n1 > n3:\n",
    "    print(f'O maior número é {n1}')\n",
    "    if n2 > n3:\n",
    "        print(f'O menor é o {n3}')\n",
    "    elif n3 > n2:\n",
    "        print(f' O menor é o {n2}')\n",
    "elif n2 > n1 and n2 > n3:\n",
    "    print(f'O maior número é {n2}')\n",
    "    if n1 > n3:\n",
    "        print(f'O menor é o {n3}')\n",
    "    elif n3 > n1:\n",
    "        print(f' O menor é o {n1}')\n",
    "elif n3 > n2 and n3 > n1:\n",
    "    print(f'O maior número é {n3}')\n",
    "    if n2 > n1:\n",
    "        print(f'O menor é o {n1}')\n",
    "    elif n1 > n2:\n",
    "        print(f'O menor é o {n2}')\n",
    "\n"
   ]
  },
  {
   "cell_type": "code",
   "execution_count": 58,
   "id": "0b2d1ed0",
   "metadata": {},
   "outputs": [
    {
     "name": "stdout",
     "output_type": "stream",
     "text": [
      "Informe o Salário: 1000\n",
      "O salario era de R$1000.0 e agora é de R$1100.0)\n"
     ]
    }
   ],
   "source": [
    "sal = float(input('Informe o Salário: '))\n",
    "if sal > 1250:\n",
    "    novo_sal = sal + (sal * 0.15)\n",
    "else:\n",
    "    novo_sal = sal + (sal * 0.10)\n",
    "    \n",
    "print(f'O salario era de R${sal} e agora é de R${novo_sal})')"
   ]
  },
  {
   "cell_type": "code",
   "execution_count": 63,
   "id": "015c8711",
   "metadata": {},
   "outputs": [
    {
     "name": "stdout",
     "output_type": "stream",
     "text": [
      "-=--=--=--=--=--=--=--=--=--=--=--=--=--=--=--=--=--=--=--=-\n",
      "Analisador de Triângulos\n",
      "-=--=--=--=--=--=--=--=--=--=--=--=--=--=--=--=--=--=--=--=-\n",
      "Primeiro segmento: 15\n",
      "Segundo segmento: 15\n",
      "Terceiro segmento: 15\n",
      "Os segmentos acima PODEM FORMAR triângulo\n"
     ]
    }
   ],
   "source": [
    "print('-=-'*20)\n",
    "print('Analisador de Triângulos')\n",
    "print('-=-'*20)\n",
    "\n",
    "r1 = float(input('Primeiro segmento: '))\n",
    "r2 = float(input('Segundo segmento: '))\n",
    "r3 = float(input('Terceiro segmento: '))\n",
    "\n",
    "if r1 < r2 + r3 and r2 < r1 + r3 and r3 < r1 + r2:\n",
    "    print('Os segmentos acima PODEM FORMAR triângulo')\n",
    "else:\n",
    "    print('Os segmentos acima NÃO PODEM FORMAR um triangulo')"
   ]
  },
  {
   "cell_type": "code",
   "execution_count": 75,
   "id": "d627a7e4",
   "metadata": {},
   "outputs": [
    {
     "name": "stdout",
     "output_type": "stream",
     "text": [
      "Os valores são \u001b[35m5\u001b[m e \u001b[32m7\u001b[m\n",
      "\u001b[1;30;41m teste\n"
     ]
    }
   ],
   "source": [
    "a = 5\n",
    "b = 7\n",
    "\n",
    "print('Os valores são \\033[35m{}\\033[m e \\033[32m{}\\033[m'.format(a, b))\n",
    "         \n",
    "print('\\033[1;30;41m teste')"
   ]
  },
  {
   "cell_type": "code",
   "execution_count": 76,
   "id": "99ff37f4",
   "metadata": {},
   "outputs": [
    {
     "data": {
      "text/plain": [
       "9"
      ]
     },
     "execution_count": 76,
     "metadata": {},
     "output_type": "execute_result"
    }
   ],
   "source": [
    "19//2"
   ]
  }
 ],
 "metadata": {
  "kernelspec": {
   "display_name": "Python 3 (ipykernel)",
   "language": "python",
   "name": "python3"
  },
  "language_info": {
   "codemirror_mode": {
    "name": "ipython",
    "version": 3
   },
   "file_extension": ".py",
   "mimetype": "text/x-python",
   "name": "python",
   "nbconvert_exporter": "python",
   "pygments_lexer": "ipython3",
   "version": "3.9.13"
  }
 },
 "nbformat": 4,
 "nbformat_minor": 5
}
