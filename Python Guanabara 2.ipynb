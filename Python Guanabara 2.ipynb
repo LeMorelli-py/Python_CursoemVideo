{
 "cells": [
  {
   "cell_type": "code",
   "execution_count": 9,
   "id": "65caa41c",
   "metadata": {},
   "outputs": [
    {
     "name": "stdout",
     "output_type": "stream",
     "text": [
      "Qual o valor da casa? 50000\n",
      "Qual o salario do comprador? 5\n",
      "Em quantos anos vai pagar o financiamento: 330\n",
      "Empréstimo negado, parcela excede 30% do salario\n",
      "Para pagar uma casa de R$50000.00, em 330.0 anos\n",
      "A parcela será de 12.63\n"
     ]
    }
   ],
   "source": [
    "casa = float(input('Qual o valor da casa? '))\n",
    "sal = float(input('Qual o salario do comprador? '))\n",
    "prazo = float(input('Em quantos anos vai pagar o financiamento: '))\n",
    "parcela = casa / (prazo * 12)\n",
    "\n",
    "if parcela > (sal * 0.3):\n",
    "    print('Empréstimo negado, parcela excede 30% do salario')\n",
    "else:\n",
    "    print('Empréstimo aprovado!!')\n",
    "    \n",
    "print(f'Para pagar uma casa de R${casa:.2f}, em {prazo} anos')\n",
    "print(f'A parcela será de {parcela:.2f}')"
   ]
  },
  {
   "cell_type": "code",
   "execution_count": 1,
   "id": "e01da649",
   "metadata": {},
   "outputs": [
    {
     "name": "stdout",
     "output_type": "stream",
     "text": [
      "Digite um Número: 2333\n",
      "Escolha uma das bases para conversão: \n",
      "[ 1 ] converter para BINARIO\n",
      "[ 2 ] converter para OCTAL\n",
      "[ 3 ] converter para HEXADECIMAL\n",
      "Sua opção: 3\n",
      "2333 convertido em HEXADECIMAL é 0x91d\n"
     ]
    }
   ],
   "source": [
    "num = int(input('Digite um Número: '))\n",
    "print('''Escolha uma das bases para conversão: \n",
    "[ 1 ] converter para BINARIO\n",
    "[ 2 ] converter para OCTAL\n",
    "[ 3 ] converter para HEXADECIMAL''')\n",
    "opcao = int(input('Sua opção: '))\n",
    "\n",
    "if opcao == 1:\n",
    "    print(f'{num} convertido em BINARIO é {bin(num)}')\n",
    "elif opcao == 2:\n",
    "    print(f'{num} convertido em OCTAL é {oct(num)}')\n",
    "elif opcao == 3:\n",
    "    print(f'{num} convertido em HEXADECIMAL é {hex(num)}')\n",
    "else:\n",
    "    print('PROGRAMA ENCERRADO!!')\n",
    "\n"
   ]
  },
  {
   "cell_type": "code",
   "execution_count": 5,
   "id": "41039c62",
   "metadata": {},
   "outputs": [
    {
     "name": "stdout",
     "output_type": "stream",
     "text": [
      "Insira o primeiro número: 15\n",
      "Insira o segundo número: 10\n",
      "O primeiro valor é maior\n"
     ]
    }
   ],
   "source": [
    "n1 = int(input('Insira o primeiro número: '))\n",
    "n2 = int(input('Insira o segundo número: '))\n",
    "\n",
    "if n1 > n2:\n",
    "    print('O primeiro valor é maior')\n",
    "elif n2 > n1:\n",
    "    print('O segundo valor é maior')\n",
    "else:\n",
    "    print('Os números são iguais')"
   ]
  },
  {
   "cell_type": "code",
   "execution_count": 20,
   "id": "9dd14754",
   "metadata": {},
   "outputs": [
    {
     "name": "stdout",
     "output_type": "stream",
     "text": [
      "Qual o ano de nascimento: 1983\n",
      "Já passou 22 anos do tempo de alistamento\n"
     ]
    }
   ],
   "source": [
    "ano = int(input('Qual o ano de nascimento: '))\n",
    "idade = 2023 - ano\n",
    "menor = 18 - idade\n",
    "maior = idade - 18\n",
    "if idade == 18:\n",
    "    print('Está na hora de se alistar no exercito')\n",
    "elif idade < 18:\n",
    "    print(f'Ainda faltam {menor} anos para poder se alistar')\n",
    "else:\n",
    "    print(f'Já passou {maior} anos do tempo de alistamento')"
   ]
  },
  {
   "cell_type": "code",
   "execution_count": 27,
   "id": "594febd2",
   "metadata": {},
   "outputs": [
    {
     "name": "stdout",
     "output_type": "stream",
     "text": [
      "Digite a primeira nota: 1\n",
      "Digite a segunda nota: 2\n",
      "REPROVADO media: 1.5\n"
     ]
    }
   ],
   "source": [
    "nota1 = float(input('Digite a primeira nota: '))\n",
    "nota2 = float(input('Digite a segunda nota: '))\n",
    "media = (nota1 + nota2) / 2\n",
    "\n",
    "if media >= 7:\n",
    "    print(f'APROVADO media: {media}')\n",
    "elif media >= 5:\n",
    "    print(f'RECUPERAÇÃO media: {media}')\n",
    "else:\n",
    "    print(f'REPROVADO media: {media}')"
   ]
  },
  {
   "cell_type": "code",
   "execution_count": 29,
   "id": "6e7ddb11",
   "metadata": {},
   "outputs": [
    {
     "name": "stdout",
     "output_type": "stream",
     "text": [
      "Qual o ano de nascimento: 1960\n",
      "Atleta MASTER\n"
     ]
    }
   ],
   "source": [
    "ano = int(input('Qual o ano de nascimento: '))\n",
    "idade = 2023 - ano\n",
    "\n",
    "if idade <= 9:\n",
    "    print('Atleta MIRIM')\n",
    "elif idade <= 14:\n",
    "    print('Atleta INFANTIL')\n",
    "elif idade <= 19:\n",
    "    print('Atleta JUNIOR')\n",
    "elif idade <= 25:\n",
    "    print('Atleta SÊNIOR')\n",
    "else:\n",
    "    print('Atleta MASTER')"
   ]
  },
  {
   "cell_type": "code",
   "execution_count": 35,
   "id": "62a94834",
   "metadata": {},
   "outputs": [
    {
     "name": "stdout",
     "output_type": "stream",
     "text": [
      "Informe o lado 1: 15\n",
      "Informe o lado 2: 10\n",
      "Informe o lado 3: 5\n",
      "Triangulo ESCALENO\n"
     ]
    }
   ],
   "source": [
    "l1 = int(input('Informe o lado 1: '))\n",
    "l2 = int(input('Informe o lado 2: '))\n",
    "l3 = int(input('Informe o lado 3: '))\n",
    "\n",
    "if l1 == l2  == l3:\n",
    "    print('Triangulo EQUILATERO')\n",
    "elif l1 != l2 != l3:\n",
    "    print('Triangulo ESCALENO')\n",
    "else:\n",
    "    print('Triangulo ISOCELES')"
   ]
  },
  {
   "cell_type": "code",
   "execution_count": 37,
   "id": "e9dc6125",
   "metadata": {},
   "outputs": [
    {
     "name": "stdout",
     "output_type": "stream",
     "text": [
      "Qual a Altura? 1.6\n",
      "Qual o Peso?160\n",
      "Vai pro Kilos Mortais\n"
     ]
    }
   ],
   "source": [
    "alt = float(input('Qual a Altura? '))\n",
    "peso = float(input('Qual o Peso?'))\n",
    "imc = peso / (alt ** 2)\n",
    "\n",
    "if imc < 18.5:\n",
    "    print('Ta magro pra kct')\n",
    "elif 18.5 <= imc <= 25:\n",
    "    print('Ta na média')\n",
    "elif 25 < imc <= 30 :\n",
    "    print('Cheinho')\n",
    "elif 30 < imc <= 40:\n",
    "    print('Gordo')\n",
    "else:\n",
    "    print('Candidato ao Kilos Mortais')"
   ]
  },
  {
   "cell_type": "code",
   "execution_count": 1,
   "id": "7364b955",
   "metadata": {},
   "outputs": [
    {
     "name": "stdout",
     "output_type": "stream",
     "text": [
      "Informe o valor das compras: R$ 4000\n",
      " FORMAS DE PAGAMENTO:\n",
      "[1] a vista dinheiro ou cheque: \n",
      "[2] a vista cartao\n",
      "[3] 2x no cartao\n",
      "[4] 3x ou mais no cartao\n",
      "Qual a opção: 4\n",
      "Quantas Parcelas: 3\n",
      "A compra de R$4000.00, parcelada em 3 vezes, ficará em R$4800.00\n"
     ]
    }
   ],
   "source": [
    "preco = float(input('Informe o valor das compras: R$ '))\n",
    "print(''' FORMAS DE PAGAMENTO:\n",
    "[1] a vista dinheiro ou cheque: \n",
    "[2] a vista cartao\n",
    "[3] 2x no cartao\n",
    "[4] 3x ou mais no cartao''')\n",
    "opcao = int(input('Qual a opção: '))\n",
    "parcelas = int(input('Quantas Parcelas: '))\n",
    "\n",
    "if opcao == 1:\n",
    "    total = preco - (preco*0.10)\n",
    "    print(f'O preço R${preco:.2f} ao final com desconto será de R${total:.2f}')\n",
    "elif opcao == 2:\n",
    "    total = preco - (preco*0.05)\n",
    "    print(f'O preço R${preco:.2f} ao final com desconto será de R${total:.2f}')\n",
    "elif opcao == 3:\n",
    "    total = preco\n",
    "    print(f'A compra parcelada em 2x será de R${total:.2f}, sendo 2 parcelas de R${total/2:.2f}')\n",
    "elif opcao == 4:\n",
    "    total = preco + (preco * 0.2)\n",
    "    print(f'A compra de R${preco:.2f}, parcelada em {parcelas} vezes, ficará em R${total:.2f}')\n",
    "    \n",
    "            "
   ]
  },
  {
   "cell_type": "code",
   "execution_count": 10,
   "id": "9a7dc4ba",
   "metadata": {},
   "outputs": [
    {
     "name": "stdout",
     "output_type": "stream",
     "text": [
      " SUAS OPÇOES\n",
      "[0] PEDRA\n",
      "[1] PAPEL\n",
      "[2] TESOURA\n",
      "Qual a sua jogada? 2\n",
      "Computador jogou papel\n",
      "Jogador jogou tesoura\n",
      "Jogador ganhou!\n"
     ]
    }
   ],
   "source": [
    "from random import randint\n",
    "itens = ('pedra', 'papel', 'tesoura')\n",
    "computador = randint(0, 2)\n",
    "print(''' SUAS OPÇOES\n",
    "[0] PEDRA\n",
    "[1] PAPEL\n",
    "[2] TESOURA''')\n",
    "jogador = int(input('Qual a sua jogada? '))\n",
    "print(f'Computador jogou {itens[computador]}')\n",
    "print(f'Jogador jogou {itens[jogador]}')\n",
    "      \n",
    "if computador == 0: #computador jogou PEDRA\n",
    "      if jogador == 0:\n",
    "          print('EMPATE')\n",
    "      elif jogador == 1:\n",
    "          print('Jogador ganhou!')\n",
    "      elif jogador == 2:\n",
    "          print('Computador ganhou!!')\n",
    "      else:\n",
    "          print('JOGADA INVALIDA!!')\n",
    "elif computador == 1: #computador jogou PAPEL\n",
    "      if jogador == 0:\n",
    "          print('Computador ganhou!')\n",
    "      elif jogador == 1:\n",
    "          print('EMPATE')\n",
    "      elif jogador == 2:\n",
    "          print('Jogador ganhou!')\n",
    "      else:\n",
    "          print('JOGADA INVALIDA!!')\n",
    "elif computador == 2: #computador jogou TESOURA\n",
    "      if jogador == 0:\n",
    "          print('Jogador ganhou!')\n",
    "      elif jogador == 1:\n",
    "          print('Computdor ganhou!')\n",
    "      elif jogador == 2:\n",
    "          print('EMPATE')\n",
    "      else:\n",
    "          print('JOGADA INVALIDA!!')\n",
    "      "
   ]
  },
  {
   "cell_type": "code",
   "execution_count": 19,
   "id": "a78365a2",
   "metadata": {},
   "outputs": [
    {
     "name": "stdout",
     "output_type": "stream",
     "text": [
      "10\n",
      "9\n",
      "8\n",
      "7\n",
      "6\n",
      "5\n",
      "4\n",
      "3\n",
      "2\n",
      "1\n",
      "0\n",
      "BOOOMMMM!!!\n"
     ]
    }
   ],
   "source": [
    "from time import sleep\n",
    "\n",
    "for i in range(11):\n",
    "    sleep(1)\n",
    "    print(10 - i)\n",
    "sleep(1)\n",
    "print('BOOOMMMM!!!')"
   ]
  },
  {
   "cell_type": "code",
   "execution_count": 22,
   "id": "58df9589",
   "metadata": {},
   "outputs": [
    {
     "name": "stdout",
     "output_type": "stream",
     "text": [
      "0\n",
      "2\n",
      "4\n",
      "6\n",
      "8\n",
      "10\n",
      "12\n",
      "14\n",
      "16\n",
      "18\n",
      "20\n",
      "22\n",
      "24\n",
      "26\n",
      "28\n",
      "30\n",
      "32\n",
      "34\n",
      "36\n",
      "38\n",
      "40\n",
      "42\n",
      "44\n",
      "46\n",
      "48\n",
      "50\n"
     ]
    }
   ],
   "source": [
    "for i in range(51):\n",
    "    if i % 2 == 0:\n",
    "        print(i)"
   ]
  },
  {
   "cell_type": "code",
   "execution_count": 41,
   "id": "87dfc116",
   "metadata": {},
   "outputs": [
    {
     "name": "stdout",
     "output_type": "stream",
     "text": [
      "20667\n",
      "84\n"
     ]
    }
   ],
   "source": [
    "soma = 0\n",
    "cont = 1\n",
    "for i in range(1, 501, 2):\n",
    "    if i % 3 == 0:\n",
    "        soma = soma + i\n",
    "        cont = cont + 1\n",
    "print(soma)\n",
    "print(cont)\n",
    "        \n"
   ]
  },
  {
   "cell_type": "code",
   "execution_count": 44,
   "id": "e4b93fa5",
   "metadata": {},
   "outputs": [
    {
     "name": "stdout",
     "output_type": "stream",
     "text": [
      "Digite um número: 752\n",
      "752 x 1 = 752\n",
      "752 x 2 = 1504\n",
      "752 x 3 = 2256\n",
      "752 x 4 = 3008\n",
      "752 x 5 = 3760\n",
      "752 x 6 = 4512\n",
      "752 x 7 = 5264\n",
      "752 x 8 = 6016\n",
      "752 x 9 = 6768\n",
      "752 x 10 = 7520\n"
     ]
    }
   ],
   "source": [
    "num = int(input('Digite um número: '))\n",
    "\n",
    "for i in range(10):\n",
    "    print(f'{num} x {i+1} = {num*(i+1)}')"
   ]
  },
  {
   "cell_type": "code",
   "execution_count": 55,
   "id": "c61743f9",
   "metadata": {},
   "outputs": [
    {
     "name": "stdout",
     "output_type": "stream",
     "text": [
      "Informe o 1º número: 750\n",
      "Informe o 2º número: 421\n",
      "Informe o 3º número: 526\n",
      "Informe o 4º número: 325\n",
      "Informe o 5º número: 418\n",
      "Informe o 6º número: 123\n",
      "A soma dos 3 numeros pares é de 1694\n"
     ]
    }
   ],
   "source": [
    "soma = 0\n",
    "cont = 0\n",
    "for i in range(1, 7):\n",
    "    num = int(input(f'Informe o {i}º número: '))\n",
    "    if num % 2 == 0:\n",
    "        soma = soma + num\n",
    "        cont = cont + 1\n",
    "    else:\n",
    "        pass\n",
    "    \n",
    "print(f'A soma dos {cont} numeros pares é de {soma}')"
   ]
  },
  {
   "cell_type": "code",
   "execution_count": 61,
   "id": "05d1c984",
   "metadata": {},
   "outputs": [
    {
     "name": "stdout",
     "output_type": "stream",
     "text": [
      "Primeiro Termo: 1\n",
      "Razão: 5\n",
      "1\n",
      "6\n",
      "11\n",
      "16\n",
      "21\n",
      "26\n",
      "31\n",
      "36\n",
      "41\n",
      "46\n"
     ]
    }
   ],
   "source": [
    "prim = int(input('Primeiro Termo: '))\n",
    "razao = int(input('Razão: '))\n",
    "decimo = prim + (10 - 1) * razao\n",
    "for i in range(prim, decimo + razao, razao):\n",
    "    print(i)\n"
   ]
  },
  {
   "cell_type": "code",
   "execution_count": 124,
   "id": "fde8386e",
   "metadata": {},
   "outputs": [
    {
     "name": "stdout",
     "output_type": "stream",
     "text": [
      "Insira um numero inteiro: 89\n",
      "O numero 89 fooi divisivel 2 vezes\n",
      "é primo\n"
     ]
    }
   ],
   "source": [
    "núm = int(input('Insira um numero inteiro: '))\n",
    "tot=0\n",
    "for c in range(1, núm + 1):\n",
    "    if núm % c == 0:\n",
    "       #print('\\033[33m', end = '')\n",
    "        tot += 1\n",
    "    else:\n",
    "        pass\n",
    "     #  print('\\033[31m')\n",
    "     #   print('{} '.format(c), end = ' ')\n",
    "\n",
    "    \n",
    "print('O numero {} foi divisivel {} vezes'.format(núm, tot))\n",
    "if tot == 2:\n",
    "    print('é primo')\n",
    "else:\n",
    "    print('Não é primo')\n",
    "        "
   ]
  },
  {
   "cell_type": "code",
   "execution_count": 146,
   "id": "b4d89aef",
   "metadata": {},
   "outputs": [
    {
     "name": "stdout",
     "output_type": "stream",
     "text": [
      "Digite uma Frase: apos a sopa\n",
      "O inverso de APOSASOPA é APOSASOPA\n",
      "Temos um Palindromo! \n"
     ]
    }
   ],
   "source": [
    "#modo 1\n",
    "frase = str(input('Digite uma Frase: ')).strip().upper()\n",
    "palavras = frase.split()\n",
    "junto = ''.join(palavras)\n",
    "inverso = ''\n",
    "\n",
    "for letra in range(len(junto) - 1, -1, -1):\n",
    "    inverso += junto[letra]\n",
    "if inverso == junto:\n",
    "    print(f'O inverso de {junto} é {inverso}')\n",
    "    print('Temos um Palindromo! ')\n",
    "else:\n",
    "    print('A frase não é palindromo!')"
   ]
  },
  {
   "cell_type": "code",
   "execution_count": 148,
   "id": "447b592b",
   "metadata": {},
   "outputs": [
    {
     "name": "stdout",
     "output_type": "stream",
     "text": [
      "Digite uma Frase: Leandro Morelli\n",
      "A frase não é palindromo!\n"
     ]
    }
   ],
   "source": [
    "#modo 2\n",
    "frase = str(input('Digite uma Frase: ')).strip().upper()\n",
    "palavras = frase.split()\n",
    "junto = ''.join(palavras)\n",
    "inverso = junto[::-1]\n",
    "if inverso == junto:\n",
    "    print(f'O inverso de {junto} é {inverso}')\n",
    "    print('Temos um Palindromo! ')\n",
    "else:\n",
    "    print('A frase não é palindromo!')"
   ]
  },
  {
   "cell_type": "code",
   "execution_count": 157,
   "id": "7530a27e",
   "metadata": {},
   "outputs": [
    {
     "name": "stdout",
     "output_type": "stream",
     "text": [
      "Informe o ano de Nascimento da 1ª: 2005\n",
      "Informe o ano de Nascimento da 2ª: 2009\n",
      "Informe o ano de Nascimento da 3ª: 2012\n",
      "Informe o ano de Nascimento da 4ª: 2017\n",
      "Informe o ano de Nascimento da 5ª: 2006\n",
      "Informe o ano de Nascimento da 6ª: 2004\n",
      "Temos 2 pessoas maiores de idade na lista\n",
      "Temos 4 pessoas da lista tem menos de 18 anos\n"
     ]
    }
   ],
   "source": [
    "from datetime import date\n",
    "atual = date.today().year\n",
    "\n",
    "total = 0\n",
    "maior = 0\n",
    "for i in range (6):\n",
    "    ano = int(input(f'Informe o ano de Nascimento da {i+1}ª: '))\n",
    "    idade = atual - ano\n",
    "    \n",
    "    if idade < 18:\n",
    "        total += 1\n",
    "    else:\n",
    "        maior +=1\n",
    "        \n",
    "print(f'Temos {maior} pessoas maiores de idade na lista')    \n",
    "print(f'Temos {total} pessoas da lista tem menos de 18 anos')\n",
    "        "
   ]
  },
  {
   "cell_type": "code",
   "execution_count": 160,
   "id": "bb461dd5",
   "metadata": {},
   "outputs": [
    {
     "name": "stdout",
     "output_type": "stream",
     "text": [
      "Informe o peso da 1ª pessoa: 118\n",
      "Informe o peso da 2ª pessoa: 95\n",
      "Informe o peso da 3ª pessoa: 79\n",
      "Informe o peso da 4ª pessoa: 59\n",
      "Informe o peso da 5ª pessoa: 60\n",
      "O maior peso foi 118.0 kg\n",
      "O menor peso foi 59.0 kg\n"
     ]
    }
   ],
   "source": [
    "maior = 0\n",
    "menor = 900\n",
    "for i in range(5):\n",
    "    peso = float(input(f'Informe o peso da {i+1}ª pessoa: '))\n",
    "    if peso > maior:\n",
    "        maior = peso\n",
    "    elif peso < menor:\n",
    "        menor = peso\n",
    "        \n",
    "print(f'O maior peso foi {maior} kg')\n",
    "print(f'O menor peso foi {menor} kg')"
   ]
  },
  {
   "cell_type": "code",
   "execution_count": null,
   "id": "dd5be2c0",
   "metadata": {},
   "outputs": [],
   "source": [
    "somaidade = 0\n",
    "maioridadehomem = 0\n",
    "qtde = 0\n",
    "totmulher20 = 0\n",
    "for i in range (1, 5):\n",
    "    print(f'-----------{i}ª pessoa---------')\n",
    "    nome = str(input(f'Nome: ')).upper().strip()\n",
    "    idade = int(input(f'idade: '))\n",
    "    sexo = str(input(f'Sexo (M/F): ')).upper().strip()\n",
    "    somaidade += idade\n",
    "    if i == 1 and sexo in 'Mm':\n",
    "        maioridadehomem = idade\n",
    "        nomevelho = nome\n",
    "    elif sexo in 'Ff' and idade > 20:\n",
    "        totmulher20 += 1\n",
    "\n",
    "    \n",
    "mediaidade = somaidade / 4\n",
    "print(f'A media de idade é de {mediaidade}')\n",
    "print(f'O homem mais velho tem {maioridadehomem} e se chama {nomevelho}')\n",
    "print(f'Ao todo são {totmulher20} mulheres com menos de 20 anos ')"
   ]
  },
  {
   "cell_type": "code",
   "execution_count": 37,
   "id": "a3a7c13e",
   "metadata": {},
   "outputs": [
    {
     "name": "stdout",
     "output_type": "stream",
     "text": [
      "Insira o sexo (M/F): l\n",
      "Insira um sexo correto (M/F)\n",
      "Dados inválidos, Insira o sexo (M/F): f\n",
      "O sexo informado foi F\n"
     ]
    }
   ],
   "source": [
    "sexo = str(input('Insira o sexo (M/F): ')).strip().upper()[0]\n",
    "\n",
    "while not 'F' in sexo and not 'M' in sexo:\n",
    "    print('Insira um sexo correto (M/F)')\n",
    "    sexo = input('Dados inválidos, Insira o sexo (M/F): ').strip().upper()\n",
    "print(f'O sexo informado foi {sexo}')"
   ]
  },
  {
   "cell_type": "code",
   "execution_count": 39,
   "id": "b21ca213",
   "metadata": {},
   "outputs": [
    {
     "name": "stdout",
     "output_type": "stream",
     "text": [
      "Acabei de pensar em um numero de 0 a 10.\n",
      "        Será que você consegue adivinhar qual foi?\n",
      "Qual seu palpite?? 5\n",
      "Mais .... tente mais uma vez\n",
      "Qual seu palpite?? 6\n",
      "Mais .... tente mais uma vez\n",
      "Qual seu palpite?? 8\n",
      "Menos... Tente mais uma vez\n",
      "Qual seu palpite?? 1\n",
      "Mais .... tente mais uma vez\n",
      "Qual seu palpite?? 3\n",
      "Mais .... tente mais uma vez\n",
      "Qual seu palpite?? 5\n",
      "Mais .... tente mais uma vez\n",
      "Qual seu palpite?? 4\n",
      "Mais .... tente mais uma vez\n",
      "Qual seu palpite?? 1\n",
      "Mais .... tente mais uma vez\n",
      "Qual seu palpite?? 3\n",
      "Mais .... tente mais uma vez\n",
      "Qual seu palpite?? 5\n",
      "Mais .... tente mais uma vez\n",
      "Qual seu palpite?? 5\n",
      "Mais .... tente mais uma vez\n",
      "Qual seu palpite?? 5\n",
      "Mais .... tente mais uma vez\n",
      "Qual seu palpite?? 5\n",
      "Mais .... tente mais uma vez\n",
      "Qual seu palpite?? 5\n",
      "Mais .... tente mais uma vez\n",
      "Qual seu palpite?? 5\n",
      "Mais .... tente mais uma vez\n",
      "Qual seu palpite?? 5\n",
      "Mais .... tente mais uma vez\n",
      "Qual seu palpite?? 5\n",
      "Mais .... tente mais uma vez\n",
      "Qual seu palpite?? 5\n",
      "Mais .... tente mais uma vez\n",
      "Qual seu palpite?? 10\n",
      "Menos... Tente mais uma vez\n",
      "Qual seu palpite?? 7\n",
      "Acertou em 20 tentativas. Parabens!\n"
     ]
    }
   ],
   "source": [
    "from random import randint\n",
    "computador = randint(0,10)\n",
    "print('''Acabei de pensar em um numero de 0 a 10.\n",
    "        Será que você consegue adivinhar qual foi?''')\n",
    "acertou = False\n",
    "palpites = 0\n",
    "\n",
    "\n",
    "while not acertou:\n",
    "    jogador = int(input('Qual seu palpite?? '))\n",
    "    palpites += 1\n",
    "    if jogador == computador:\n",
    "        acertou = True\n",
    "    else:\n",
    "        if jogador < computador:\n",
    "            print('Mais .... tente mais uma vez')\n",
    "        elif jogador > computador:\n",
    "            print('Menos... Tente mais uma vez')\n",
    "print(f'Acertou em {palpites} tentativas. Parabens!')\n",
    "    "
   ]
  },
  {
   "cell_type": "code",
   "execution_count": null,
   "id": "cf76937b",
   "metadata": {},
   "outputs": [
    {
     "name": "stdout",
     "output_type": "stream",
     "text": [
      "Insira um numero: 3\n",
      "Insira outro numero: 5\n",
      "O que você gostaria de fazer com esses numeros,\n",
      "            [1] SOMAR\n",
      "            [2] MULTIPLICAR\n",
      "            [3] MAIOR\n",
      "            [4] NOVOS NUMEROS\n",
      "            [5] SAIR DO PROGRAMA\n",
      ">>> qual a sua opção? 4\n",
      "Insira os números novamente: \n",
      "Insira um numero: 2\n",
      "Insira outro numero: 6\n",
      "O que você gostaria de fazer com esses numeros,\n",
      "            [1] SOMAR\n",
      "            [2] MULTIPLICAR\n",
      "            [3] MAIOR\n",
      "            [4] NOVOS NUMEROS\n",
      "            [5] SAIR DO PROGRAMA\n",
      ">>> qual a sua opção? 3\n",
      "O numero 6 é maior que 2\n",
      "O que você gostaria de fazer com esses numeros,\n",
      "            [1] SOMAR\n",
      "            [2] MULTIPLICAR\n",
      "            [3] MAIOR\n",
      "            [4] NOVOS NUMEROS\n",
      "            [5] SAIR DO PROGRAMA\n",
      ">>> qual a sua opção? 2\n",
      "O numero 2 multiplicado por 6 fica 12\n",
      "O que você gostaria de fazer com esses numeros,\n",
      "            [1] SOMAR\n",
      "            [2] MULTIPLICAR\n",
      "            [3] MAIOR\n",
      "            [4] NOVOS NUMEROS\n",
      "            [5] SAIR DO PROGRAMA\n",
      ">>> qual a sua opção? 1\n",
      "A soma dos numero 2 e 6 é 8\n",
      "O que você gostaria de fazer com esses numeros,\n",
      "            [1] SOMAR\n",
      "            [2] MULTIPLICAR\n",
      "            [3] MAIOR\n",
      "            [4] NOVOS NUMEROS\n",
      "            [5] SAIR DO PROGRAMA\n",
      ">>> qual a sua opção? 4\n",
      "Insira os números novamente: \n",
      "Insira um numero: 5\n",
      "Insira outro numero: 8\n",
      "O que você gostaria de fazer com esses numeros,\n",
      "            [1] SOMAR\n",
      "            [2] MULTIPLICAR\n",
      "            [3] MAIOR\n",
      "            [4] NOVOS NUMEROS\n",
      "            [5] SAIR DO PROGRAMA\n",
      ">>> qual a sua opção? 6\n",
      "Opcão inválida. Tente novamente\n",
      "O que você gostaria de fazer com esses numeros,\n",
      "            [1] SOMAR\n",
      "            [2] MULTIPLICAR\n",
      "            [3] MAIOR\n",
      "            [4] NOVOS NUMEROS\n",
      "            [5] SAIR DO PROGRAMA\n"
     ]
    }
   ],
   "source": [
    "n1 = int(input('Insira um numero: '))\n",
    "n2 = int(input('Insira outro numero: '))\n",
    "opcao = 0\n",
    "while opcao != 5:\n",
    "    print('''O que você gostaria de fazer com esses numeros,\n",
    "            [1] SOMAR\n",
    "            [2] MULTIPLICAR\n",
    "            [3] MAIOR\n",
    "            [4] NOVOS NUMEROS\n",
    "            [5] SAIR DO PROGRAMA''')\n",
    "\n",
    "    opcao = int(input('>>> qual a sua opção? '))\n",
    "    if opcao == 1:\n",
    "        print(f'A soma dos numero {n1} e {n2} é {n1+n2}')\n",
    "    elif opcao == 2:\n",
    "        print(f'O numero {n1} multiplicado por {n2} fica {n1*n2}')\n",
    "    elif opcao == 3:\n",
    "        if n1 > n2:\n",
    "            print(f'O numero {n1} é maior que {n2}')\n",
    "        else:\n",
    "            print(f'O numero {n2} é maior que {n1}')\n",
    "    elif opcao == 4:\n",
    "        print('Insira os números novamente: ')\n",
    "        n1 = int(input('Insira um numero: '))\n",
    "        n2 = int(input('Insira outro numero: '))\n",
    "    elif opcao == 5:\n",
    "        print('FINALIZANDO')\n",
    "    else:\n",
    "        print('Opcão inválida. Tente novamente')\n",
    "    \n",
    "print('-=-'*10)\n",
    "print(\"Fim do programa! Volte Sempre!\")"
   ]
  },
  {
   "cell_type": "code",
   "execution_count": 17,
   "id": "8ed85224",
   "metadata": {},
   "outputs": [
    {
     "name": "stdout",
     "output_type": "stream",
     "text": [
      "informe o numero: 5\n",
      "O fatorial de 5 é 120\n"
     ]
    }
   ],
   "source": [
    "from math import factorial\n",
    "num = int(input('informe o numero: '))\n",
    "f = factorial(num)\n",
    "print(f'O fatorial de {num} é {f}')"
   ]
  },
  {
   "cell_type": "code",
   "execution_count": 46,
   "id": "ea7982b8",
   "metadata": {},
   "outputs": [
    {
     "name": "stdout",
     "output_type": "stream",
     "text": [
      "informe o numero: 10\n",
      "Calculando 10! = 10 x 9 x 8 x 7 x 6 x 5 x 4 x 3 x 2 x 1 =  3628800\n"
     ]
    }
   ],
   "source": [
    "#2a forma\n",
    "num = int(input('informe o numero: '))\n",
    "c = num\n",
    "f = 1\n",
    "print(f'Calculando {num}! = ', end = '')\n",
    "while c > 0:\n",
    "    print(f'{c}', end = '')\n",
    "    print(f' x' if c > 1 else ' = ', end = ' ')\n",
    "    f *= c\n",
    "    c -= 1\n",
    "print(f'{f}')\n",
    "\n"
   ]
  },
  {
   "cell_type": "code",
   "execution_count": 58,
   "id": "cb4112ab",
   "metadata": {},
   "outputs": [
    {
     "name": "stdout",
     "output_type": "stream",
     "text": [
      "Primeiro Termo: 6\n",
      "Razão: 3\n",
      "6 -> 9 -> 12 -> 15 -> 18 -> 21 -> 24 -> 27 -> 30 -> 33 -> Fim\n"
     ]
    }
   ],
   "source": [
    "pa = int(input('Primeiro Termo: '))\n",
    "razao = int(input('Razão: '))\n",
    "decimo = pa + (10 - 1) * razao\n",
    "termo = pa\n",
    "cont = 1\n",
    "while cont <= 10:\n",
    "    print(f'{termo} -> ', end = '')\n",
    "    termo += razao\n",
    "    cont += 1\n",
    "print('Fim')"
   ]
  },
  {
   "cell_type": "code",
   "execution_count": 9,
   "id": "a513f5b2",
   "metadata": {},
   "outputs": [
    {
     "name": "stdout",
     "output_type": "stream",
     "text": [
      "Gerador de PA\n",
      "-=-=-=-=-=-=-=-=-=-=-=-=-=-=-=-=-=-=-=-=\n",
      "Primeiro Termo: 5\n",
      "Razão: 3\n",
      "5 -> 8 -> 11 -> 14 -> 17 -> 20 -> 23 -> 26 -> 29 -> 32 -> Pausa\n",
      "Quantos termos você quer mostrar a mais? 5\n",
      "35 -> 38 -> 41 -> 44 -> 47 -> Pausa\n",
      "Quantos termos você quer mostrar a mais? 3\n",
      "50 -> 53 -> 56 -> Pausa\n",
      "Quantos termos você quer mostrar a mais? 10\n",
      "59 -> 62 -> 65 -> 68 -> 71 -> 74 -> 77 -> 80 -> 83 -> 86 -> Pausa\n",
      "Quantos termos você quer mostrar a mais? 8\n",
      "89 -> 92 -> 95 -> 98 -> 101 -> 104 -> 107 -> 110 -> Pausa\n",
      "Quantos termos você quer mostrar a mais? 9\n",
      "113 -> 116 -> 119 -> 122 -> 125 -> 128 -> 131 -> 134 -> 137 -> Pausa\n",
      "Quantos termos você quer mostrar a mais? 10\n",
      "140 -> 143 -> 146 -> 149 -> 152 -> 155 -> 158 -> 161 -> 164 -> 167 -> Pausa\n",
      "Quantos termos você quer mostrar a mais? 0\n",
      "Progressão finalizada com 55 termos mostrados\n"
     ]
    }
   ],
   "source": [
    "print('Gerador de PA')\n",
    "print('-=-='*10)\n",
    "primeiro = int(input('Primeiro Termo: '))\n",
    "razao = int(input('Razão: '))\n",
    "termo = primeiro\n",
    "cont = 1\n",
    "total = 0\n",
    "mais = 10\n",
    "while mais != 0:\n",
    "    total = total + mais\n",
    "    while cont <= total:\n",
    "        print(f'{termo} -> ', end = '')\n",
    "        termo += razao\n",
    "        cont += 1\n",
    "    print('Pausa')\n",
    "    mais = int(input('Quantos termos você quer mostrar a mais? '))\n",
    "print(f'Progressão finalizada com {total} termos mostrados')"
   ]
  },
  {
   "cell_type": "code",
   "execution_count": 22,
   "id": "9d20491e",
   "metadata": {},
   "outputs": [
    {
     "name": "stdout",
     "output_type": "stream",
     "text": [
      "------------------------------------------------------------\n",
      "Sequencia de Fibonacci\n",
      "------------------------------------------------------------\n",
      "Que termo deseja encontrar: 10\n",
      "~~~~~~~~~~~~~~~~~~~~~~~~~~~~~~\n",
      "1 - 1  - 2 - 3 - 5 - 8 - 13 - 21 - 34 - 55- FIM\n"
     ]
    }
   ],
   "source": [
    "print('--'*30)\n",
    "print('Sequencia de Fibonacci')\n",
    "print('--'*30)\n",
    "n = int(input('Que termo deseja encontrar: '))\n",
    "t1 = 1\n",
    "t2 = 1\n",
    "print('~'*30)\n",
    "print(f'{t1} - {t2} ', end = '')\n",
    "count = 3\n",
    "while count <= n:\n",
    "    t3 = t1 + t2\n",
    "    print(f' - {t3}', end = '')\n",
    "    t2 = t1\n",
    "    t1 = t3\n",
    "    count += 1\n",
    "print('- FIM')"
   ]
  },
  {
   "cell_type": "code",
   "execution_count": null,
   "id": "0fe2453b",
   "metadata": {},
   "outputs": [],
   "source": [
    "num = cont = soma = media = maior =  menor = 0\n",
    "resp = 'S'\n",
    "\n",
    "while 'N' not in resp:\n",
    "    num = int(input('Digite um número inteiro: '))\n",
    "    soma += num\n",
    "    cont += 1\n",
    "    media = soma / cont\n",
    "    if cont == 1:\n",
    "        maior = menor = num\n",
    "    else:\n",
    "        if num > maior:\n",
    "            maior = num\n",
    "        elif num < menor:\n",
    "            menor = num\n",
    "    resp = str(input('Quer continuar? [S/N]: ')).upper().strip()[0]\n",
    "print ('Acabou')\n",
    "print(f' Os {cont} numeros digitados tem como média dos números é {media:.2f}')\n",
    "print(f'o maior é {maior} e o menor {menor}')"
   ]
  },
  {
   "cell_type": "code",
   "execution_count": 36,
   "id": "7e11509e",
   "metadata": {},
   "outputs": [
    {
     "name": "stdout",
     "output_type": "stream",
     "text": [
      "Digite um número inteiro: 2\n",
      "Quer continuar? [S/N]: s\n",
      "Digite um número inteiro: 15\n",
      "Quer continuar? [S/N]: s\n",
      "Digite um número inteiro: 35\n",
      "Quer continuar? [S/N]: n\n",
      "Acabou\n",
      " Os 3 numeros digitados tem como média dos números é 17.33\n",
      "o maior é 35 e o menor 2\n"
     ]
    }
   ],
   "source": [
    "num = cont = soma = 0\n",
    "resp = 'S'\n",
    "\n",
    "while 'N' not in resp:\n",
    "    num = int(input('Digite um número inteiro: '))\n",
    "    soma += num\n",
    "    cont += 1\n",
    "    media = soma / cont\n",
    "    resp = str(input('Quer continuar? [S/N]: ')).upper().strip()[0]\n",
    "print ('Acabou')\n",
    "print(f' Os {cont} numeros digitados somados é {soma}')\n"
   ]
  },
  {
   "cell_type": "code",
   "execution_count": 42,
   "id": "0c6a8546",
   "metadata": {},
   "outputs": [
    {
     "name": "stdout",
     "output_type": "stream",
     "text": [
      "Digite um número [999 para encerrar]: 15\n",
      "Digite um número [999 para encerrar]: 25\n",
      "Digite um número [999 para encerrar]: 35\n",
      "Digite um número [999 para encerrar]: 4\n",
      "Digite um número [999 para encerrar]: 98\n",
      "Digite um número [999 para encerrar]: 999\n",
      " Os 5 numeros digitados somados são: 177\n"
     ]
    }
   ],
   "source": [
    "cont = soma = 0\n",
    "num = int(input('Digite um número [999 para encerrar]: '))\n",
    "while True:\n",
    "    soma += num\n",
    "    cont += 1\n",
    "    num = int(input('Digite um número [999 para encerrar]: '))\n",
    "    if num == 999:\n",
    "        break\n",
    "print(f' Os {cont} numeros digitados somados são: {soma}')"
   ]
  },
  {
   "cell_type": "code",
   "execution_count": 60,
   "id": "8604fa1c",
   "metadata": {},
   "outputs": [
    {
     "name": "stdout",
     "output_type": "stream",
     "text": [
      "Quer ver a tabuada de qual valor: 3\n",
      "3 x 1 = 3 \n",
      "3 x 2 = 6 \n",
      "3 x 3 = 9 \n",
      "3 x 4 = 12 \n",
      "3 x 5 = 15 \n",
      "3 x 6 = 18 \n",
      "3 x 7 = 21 \n",
      "3 x 8 = 24 \n",
      "3 x 9 = 27 \n",
      "3 x 10 = 30 \n",
      "Quer ver a tabuada de qual valor: 15\n",
      "15 x 1 = 15 \n",
      "15 x 2 = 30 \n",
      "15 x 3 = 45 \n",
      "15 x 4 = 60 \n",
      "15 x 5 = 75 \n",
      "15 x 6 = 90 \n",
      "15 x 7 = 105 \n",
      "15 x 8 = 120 \n",
      "15 x 9 = 135 \n",
      "15 x 10 = 150 \n",
      "Quer ver a tabuada de qual valor: -1\n",
      "Programa Encerrado!\n"
     ]
    }
   ],
   "source": [
    "while True:\n",
    "    num = int(input('Quer ver a tabuada de qual valor: '))\n",
    "    if num < 0:\n",
    "        break\n",
    "    for i in range (1, 11):\n",
    "        print(f'{num} x {i} = {num * i} ')\n",
    "        \n",
    "print('Programa Encerrado!')\n",
    "    "
   ]
  },
  {
   "cell_type": "code",
   "execution_count": 88,
   "id": "158ff078",
   "metadata": {},
   "outputs": [
    {
     "name": "stdout",
     "output_type": "stream",
     "text": [
      "-=-=-=-=-=-=-=-=-=-=-=-=-=-=-=-=-=-=-=-=-=-=-=-=-=-=-=-=-=-=-=-=-=-=-=-=-=-=-=-=-=-=-=-=-=-=-=-=-=-=-=-=-=-=-=-=-=-=-=-=\n",
      "      PAR OU IMPAR     \n",
      "-=-=-=-=-=-=-=-=-=-=-=-=-=-=-=-=-=-=-=-=-=-=-=-=-=-=-=-=-=-=-=-=-=-=-=-=-=-=-=-=-=-=-=-=-=-=-=-=-=-=-=-=-=-=-=-=-=-=-=-=\n",
      "Diga um valor: 3\n",
      "PAR ou IMPAR? [P/I]p\n",
      "Você jogou 3 e o CPU 3 total de 6 DEU PAR\n",
      "Você VENCEU\n",
      "Vamos jogar novamente... \n",
      "Diga um valor: 5\n",
      "PAR ou IMPAR? [P/I]i\n",
      "Você jogou 5 e o CPU 4 total de 9 DEU IMPAR\n",
      "Você VENCEU\n",
      "Vamos jogar novamente... \n",
      "Diga um valor: 2\n",
      "PAR ou IMPAR? [P/I]p\n",
      "Você jogou 2 e o CPU 7 total de 9 DEU IMPAR\n",
      "Você PERDEU\n",
      "GAME OVER! Você venceu 2 vezes\n"
     ]
    }
   ],
   "source": [
    "from random import randint\n",
    "print('-=-='*30)\n",
    "print('      PAR OU IMPAR     ')\n",
    "print('-=-='*30)\n",
    "v = 0\n",
    "\n",
    "while True:\n",
    "    jogador = int(input('Diga um valor: '))\n",
    "    computador = randint(0, 11)\n",
    "    total = jogador + computador\n",
    "    tipo = ''\n",
    "    tipo = str(input('PAR ou IMPAR? [P/I]')).strip().upper()\n",
    "    while tipo not in 'PI': \n",
    "          tipo = str(input('PAR ou IMPAR? [P/I]')).strip().upper()\n",
    "    print(f'Você jogou {jogador} e o CPU {computador} total de {total}', end= '')\n",
    "    print(' DEU PAR' if total %2 == 0 else ' DEU IMPAR')\n",
    "    if tipo == 'P':\n",
    "        if total % 2 == 0:\n",
    "            print('Você VENCEU')\n",
    "            v += 1\n",
    "        else:\n",
    "            print('Você PERDEU')\n",
    "            break\n",
    "    elif tipo == 'I':\n",
    "        if total % 2 == 1:\n",
    "            print('Você VENCEU')\n",
    "            v += 1\n",
    "        else:\n",
    "            print('Você PERDEU')\n",
    "            break\n",
    "    print('Vamos jogar novamente... ')\n",
    "print(f'GAME OVER! Você venceu {v} vezes')\n",
    "            "
   ]
  },
  {
   "cell_type": "code",
   "execution_count": 118,
   "id": "3f3cd2c6",
   "metadata": {},
   "outputs": [
    {
     "name": "stdout",
     "output_type": "stream",
     "text": [
      "IDADE: 15\n",
      "SEXO: f\n",
      "Deseja inserir outro cadastro? s\n",
      "IDADE: 36\n",
      "SEXO: m\n",
      "Deseja inserir outro cadastro? s\n",
      "IDADE: 25\n",
      "SEXO: m\n",
      "Deseja inserir outro cadastro? s\n",
      "IDADE: 18\n",
      "SEXO: f\n",
      "Deseja inserir outro cadastro? n\n",
      "2 tem mais de 18 anos\n",
      "2 são homens\n",
      "2 mulheres tem menos de 20 anos\n"
     ]
    }
   ],
   "source": [
    "maior18 = 0\n",
    "homem = 0\n",
    "mulher20 = 0\n",
    "sexo = ''\n",
    "resp = ''\n",
    "while True:\n",
    "    idade = int(input('IDADE: '))\n",
    "    sexo = ' '\n",
    "    while not sexo in 'MF':\n",
    "        sexo = str(input('SEXO: ')).strip().upper()[0]\n",
    "    if idade > 18:\n",
    "        maior18 += 1\n",
    "    if sexo == 'M':\n",
    "        homem += 1\n",
    "    if sexo == 'F' and idade < 20:\n",
    "            mulher20 += 1\n",
    "            \n",
    "    resp = ' '\n",
    "    while not resp in 'SN':\n",
    "        resp = str(input('Deseja inserir outro cadastro? ')).strip().upper()[0]\n",
    "    if resp == 'N':\n",
    "        break\n",
    "            \n",
    "print(f'{maior18} tem mais de 18 anos')\n",
    "print(f'{homem} são homens')\n",
    "print(f'{mulher20} mulheres tem menos de 20 anos')\n"
   ]
  },
  {
   "cell_type": "code",
   "execution_count": 134,
   "id": "b1b7bf5b",
   "metadata": {},
   "outputs": [
    {
     "name": "stdout",
     "output_type": "stream",
     "text": [
      "Qual o produto? Caneta\n",
      "Qual o preço: 2\n",
      "Deseja inserir outro produto? s\n",
      "Qual o produto? notebook\n",
      "Qual o preço: 5800\n",
      "Deseja inserir outro produto? s\n",
      "Qual o produto? galaxy \n",
      "Qual o preço: 6500\n",
      "Deseja inserir outro produto? s\n",
      "Qual o produto? iphone\n",
      "Qual o preço: 14000\n",
      "Deseja inserir outro produto? n\n",
      "Foi gasto um total de R$ 26302.00 nessa compra\n",
      "3 produtos custam mais de R$1000,00\n",
      "O produto mais barato é Caneta e custa R$2.00\n"
     ]
    }
   ],
   "source": [
    "total = prod1000 = menor = cont= 0\n",
    "barato = ' '\n",
    "while True:\n",
    "    prod = str(input('Qual o produto? ')).strip()\n",
    "    preco = float(input('Qual o preço: '))\n",
    "    cont += 1\n",
    "    total += preco\n",
    "    if preco > 1000:\n",
    "        prod1000 += 1\n",
    "    if preco < menor:\n",
    "            menor = preco\n",
    "            barato = prod\n",
    "    if cont == 1:\n",
    "        menor = preco\n",
    "        barato = prod\n",
    "   \n",
    "\n",
    "    resp = ' '\n",
    "    while not resp in 'SN':\n",
    "        resp = str(input('Deseja inserir outro produto? ')).strip().upper()[0]\n",
    "    if resp == 'N':\n",
    "        break\n",
    "            \n",
    "print(f'Foi gasto um total de R$ {total:.2f} nessa compra')\n",
    "print(f'{prod1000} produtos custam mais de R$1000,00')\n",
    "print(f'O produto mais barato é {barato} e custa R${menor:.2f}')\n"
   ]
  },
  {
   "cell_type": "code",
   "execution_count": 142,
   "id": "3e5ced21",
   "metadata": {},
   "outputs": [
    {
     "name": "stdout",
     "output_type": "stream",
     "text": [
      "=============================================\n",
      "        BANCO FERROUSE   \n",
      "=============================================\n",
      "Qual o valor a ser sacado 9889\n",
      "Total de 98 cédulas de R$100\n",
      "Total de 1 cédulas de R$50\n",
      "Total de 1 cédulas de R$20\n",
      "Total de 1 cédulas de R$10\n",
      "Total de 1 cédulas de R$5\n",
      "Total de 2 cédulas de R$2\n",
      "=============================================\n",
      "O Banco Ferrouse Agradece a preferência\n"
     ]
    }
   ],
   "source": [
    "print('==='*15)\n",
    "print('        BANCO FERROUSE   ')\n",
    "print('==='*15)\n",
    "saque = float(input('Qual o valor a ser sacado '))\n",
    "total = saque\n",
    "ced = 100\n",
    "totalced = 0\n",
    "while True:\n",
    "    if total >= ced:\n",
    "        total -= ced\n",
    "        totalced += 1\n",
    "    else:\n",
    "        if totalced > 0:\n",
    "            print(f'Total de {totalced} cédulas de R${ced}')\n",
    "        if ced == 100:\n",
    "            ced = 50\n",
    "        elif ced == 50:\n",
    "            ced = 20\n",
    "        elif ced == 20:\n",
    "            ced = 10\n",
    "        elif ced == 10:\n",
    "            ced = 5\n",
    "        elif ced == 5:\n",
    "            ced = 2\n",
    "        elif ced == 2:\n",
    "            ced = 1\n",
    "        totalced = 0\n",
    "        if total == 0:\n",
    "            break\n",
    "\n",
    "print('==='*15)\n",
    "print('O Banco Ferrouse Agradece a preferência')"
   ]
  }
 ],
 "metadata": {
  "kernelspec": {
   "display_name": "Python 3 (ipykernel)",
   "language": "python",
   "name": "python3"
  },
  "language_info": {
   "codemirror_mode": {
    "name": "ipython",
    "version": 3
   },
   "file_extension": ".py",
   "mimetype": "text/x-python",
   "name": "python",
   "nbconvert_exporter": "python",
   "pygments_lexer": "ipython3",
   "version": "3.9.13"
  }
 },
 "nbformat": 4,
 "nbformat_minor": 5
}
