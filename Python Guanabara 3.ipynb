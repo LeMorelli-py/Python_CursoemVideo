{
 "cells": [
  {
   "cell_type": "code",
   "execution_count": 1,
   "id": "6594a4fb",
   "metadata": {},
   "outputs": [
    {
     "name": "stdout",
     "output_type": "stream",
     "text": [
      "O número 3 por extenso é Três\n"
     ]
    }
   ],
   "source": [
    "numeros = ('Zero', 'Um', 'Dois', 'Três', 'Quatro', 'Cinco', 'Seis', 'Sete', 'Oito', 'Nove',\n",
    "           'Dez', 'Onze', 'Doze', 'Treze', 'Quatorze', 'Quinze', 'Dezesseis', 'Dezessete',\n",
    "           'Dezoito', 'Dezenove', 'Vinte')\n",
    "\n",
    "i = int(input('Informe um número e te mostro por extenso: '))\n",
    "\n",
    "num = numeros[i]\n",
    "print(f'O número {i} por extenso é {numeros[i]}')"
   ]
  },
  {
   "cell_type": "code",
   "execution_count": 29,
   "id": "b65bcbfe",
   "metadata": {},
   "outputs": [
    {
     "name": "stdout",
     "output_type": "stream",
     "text": [
      "a) Os cinco primeiros times são: ('Botafogo', 'Palmeiras', 'Fluminense', 'Cruzeiro', 'Atletico PR')\n",
      "b) Os quatro ultimos colocados são: ('Corinthians', 'Cuiaba', 'Coritiba', 'America Mineiro')\n",
      "c)  ['America Mineiro', 'Atletico MG', 'Atletico PR', 'Bahia', 'Botafogo', 'Corinthians', 'Coritiba', 'Cruzeiro', 'Cuiaba', 'Flamengo', 'Fluminense', 'Fortaleza', 'Goias', 'Gremio', 'Internacional', 'Palmeiras', 'RB Bragantino', 'Santos', 'São Paulo', 'Vasco']\n",
      "d) O Corinthians está na 17ª colocaçao\n"
     ]
    }
   ],
   "source": [
    "times = ('Botafogo', 'Palmeiras', 'Fluminense', 'Cruzeiro', 'Atletico PR', 'Atletico MG', 'Santos',\n",
    "        'Fortaleza', 'Flamengo', 'São Paulo', 'Gremio', 'Internacional', 'RB Bragantino', 'Bahia', \n",
    "        'Goias', 'Vasco', 'Corinthians', 'Cuiaba', 'Coritiba', 'America Mineiro')\n",
    "\n",
    "primeiros = times[:5]\n",
    "print(f'a) Os cinco primeiros times são: {primeiros}')\n",
    "ultimos = times[-4:]\n",
    "print(f'b) Os quatro ultimos colocados são: {ultimos}')\n",
    "lista = list(times)\n",
    "#print(lista)\n",
    "lista.sort()\n",
    "print('c) ', lista)\n",
    "posicao = times.index('Corinthians')\n",
    "print(f'd) O Corinthians está na {posicao + 1}ª colocaçao')"
   ]
  },
  {
   "cell_type": "code",
   "execution_count": 124,
   "id": "48fdf4db",
   "metadata": {},
   "outputs": [
    {
     "name": "stdout",
     "output_type": "stream",
     "text": [
      "Os valores sorteados foram:   7 3 9 8 8\n",
      "O maior numero foi 9\n",
      "O menor numero foi 3\n"
     ]
    }
   ],
   "source": [
    "from random import randint\n",
    "\n",
    "num = (randint(1, 10), randint(1, 10), randint(1, 10), \n",
    "       randint(1, 10), randint(1, 10))\n",
    "print('Os valores sorteados foram: ', end=' ')\n",
    "for item in num:\n",
    "    print(f' {item}', end='')\n",
    "\n",
    "    \n",
    "print(f'\\nO maior numero foi {max(num)}')\n",
    "print(f'O menor numero foi {min(num)}')"
   ]
  },
  {
   "cell_type": "code",
   "execution_count": 149,
   "id": "c7045912",
   "metadata": {},
   "outputs": [
    {
     "name": "stdout",
     "output_type": "stream",
     "text": [
      "Digite um numero: 9\n",
      "Digite outro numero: 3\n",
      "Digite mais um numero: 8\n",
      "Digite o ultimo numero: 9\n",
      "Os numeros digitados foram (9, 3, 8, 9)\n",
      "O numero 9 foi digitado 2 vezes\n",
      "3 na posiçao 1\n",
      "Os valores pares são:{8}"
     ]
    }
   ],
   "source": [
    "num = (int(input('Digite um numero: ')), \n",
    "      int(input('Digite outro numero: ')), \n",
    "      int(input('Digite mais um numero: ')), \n",
    "      int(input('Digite o ultimo numero: ')))\n",
    "\n",
    "print(f'Os numeros digitados foram {num}')\n",
    "\n",
    "print(f'O numero 9 foi digitado {num.count(9)} vezes')\n",
    "if 3 in num:\n",
    "    print(f'3 na posiçao {num.index(3)}')\n",
    "else:\n",
    "    print('O numero 3 não foi digitado!')\n",
    "print('Os valores pares são:', end='')\n",
    "for n in num:\n",
    "    if n%2 ==0:\n",
    "        print({n}, end = '')"
   ]
  },
  {
   "cell_type": "code",
   "execution_count": 170,
   "id": "16b37beb",
   "metadata": {},
   "outputs": [
    {
     "name": "stdout",
     "output_type": "stream",
     "text": [
      "----------------------------------------\n",
      "   Lista de preços    \n",
      "________________________________________\n",
      "iphone........................R$5000.00\n",
      "notebook......................R$3000.00\n",
      "mochila.......................R$300.00\n",
      "mouse.........................R$90.00\n",
      "teclado.......................R$150.00\n",
      "mousepad......................R$30.00\n",
      "Canetas.......................R$25.00\n",
      "_____________________________________________\n"
     ]
    }
   ],
   "source": [
    "precos = ('iphone', 5000, \n",
    "          'notebook', 3000, \n",
    "          'mochila', 300, \n",
    "          'mouse', 90, \n",
    "          'teclado', 150, \n",
    "          'mousepad', 30, \n",
    "         'Canetas', 25)\n",
    "print('-'*40)\n",
    "print('   Lista de preços    ')\n",
    "print('_'*40)\n",
    "for pos in range(0, len(precos)):\n",
    "    if pos % 2 == 0:\n",
    "        print(f'{precos[pos]:.<30}', end ='')\n",
    "    else:\n",
    "        print(f'R${precos[pos]:>5.2f}')\n",
    "        \n",
    "print('_'*45)"
   ]
  },
  {
   "cell_type": "code",
   "execution_count": 181,
   "id": "0c941a07",
   "metadata": {},
   "outputs": [
    {
     "name": "stdout",
     "output_type": "stream",
     "text": [
      "\n",
      "Na palavra ARROZ temos as vogais: a o \n",
      "Na palavra FEIJAO temos as vogais: e i a o \n",
      "Na palavra OLEO temos as vogais: o e o \n",
      "Na palavra PICANHA temos as vogais: i a a \n",
      "Na palavra AZEITE temos as vogais: a e i e \n",
      "Na palavra RACAO temos as vogais: a a o \n",
      "Na palavra BISCOITO temos as vogais: i o i o "
     ]
    }
   ],
   "source": [
    "palavras = ('arroz', 'feijao', 'oleo', 'picanha', 'azeite', 'racao', 'biscoito')\n",
    "\n",
    "for pa in palavras:\n",
    "    print(f'\\nNa palavra {pa.upper()} temos as vogais: ', end='')\n",
    "    for letra in pa:\n",
    "        if letra.lower() in 'aeiou':\n",
    "            print(letra, end=' ')"
   ]
  },
  {
   "cell_type": "code",
   "execution_count": 194,
   "id": "13c55bab",
   "metadata": {},
   "outputs": [
    {
     "name": "stdout",
     "output_type": "stream",
     "text": [
      "Digite um numero: 15\n",
      "Digite outro numero: 20\n",
      "Digite mais um numero: 25\n",
      "Digite o penultimo numero: 30\n",
      "Digite o ultimo numero: 1\n",
      "O maior número, 30 na posição 4\n",
      "O menor número, 1 na posição 5\n"
     ]
    }
   ],
   "source": [
    "numero = (int(input('Digite um numero: ')), \n",
    "      int(input('Digite outro numero: ')), \n",
    "      int(input('Digite mais um numero: ')), \n",
    "      int(input('Digite o penultimo numero: ')),\n",
    "      int(input('Digite o ultimo numero: ')))\n",
    "\n",
    "listanum = list(numero)\n",
    "\n",
    "print(f'O maior número, {max(listanum)} na posição {listanum.index(max(listanum))+1}')\n",
    "print(f'O menor número, {min(listanum)} na posição {listanum.index(min(listanum))+1}')"
   ]
  },
  {
   "cell_type": "code",
   "execution_count": 210,
   "id": "04a6cdf3",
   "metadata": {},
   "outputs": [
    {
     "name": "stdout",
     "output_type": "stream",
     "text": [
      "Digite um valor: 8\n",
      "Valor incluído com exito\n",
      "Quer continuar (S/N): s\n",
      "Digite um valor: 8\n",
      "valor duplicado, não será adicionado\n",
      "Quer continuar (S/N): n\n",
      "Voce digitou os valores [8]\n"
     ]
    }
   ],
   "source": [
    "números = list()\n",
    "while True:\n",
    "    n = int(input('Digite um valor: '))\n",
    "    if n not in números:\n",
    "        números.append(n)\n",
    "        print('Valor incluído com exito')\n",
    "    else:\n",
    "        print('valor duplicado, não será adicionado')\n",
    "    r = str(input('Quer continuar (S/N): '))\n",
    "    if r in 'Nn':\n",
    "        break\n",
    "        \n",
    "        \n",
    "print(f'Voce digitou os valores {números}')"
   ]
  },
  {
   "cell_type": "code",
   "execution_count": 215,
   "id": "fd8fdcda",
   "metadata": {},
   "outputs": [
    {
     "name": "stdout",
     "output_type": "stream",
     "text": [
      "Digite um valor: 25\n",
      "Digite um valor: 10\n",
      "Digite um valor: 22\n",
      "Digite um valor: 15\n",
      "Digite um valor: 18\n",
      "***************************************************************************\n",
      "Os valores digitados em ordem foram: [10, 15, 18, 22, 25]\n"
     ]
    }
   ],
   "source": [
    "lista = []\n",
    "for c in range (0, 5):\n",
    "    n = int(input('Digite um valor: '))\n",
    "    if c == 0 or n > lista[-1]:\n",
    "        lista.append(n)\n",
    "    else:\n",
    "        pos = 0\n",
    "        while pos < len(lista):\n",
    "            if n <= lista[pos]:\n",
    "                lista.insert(pos, n)\n",
    "                break\n",
    "            pos +=1\n",
    "print('***'*25)            \n",
    "print(f'Os valores digitados em ordem foram: {lista}')\n",
    "   "
   ]
  },
  {
   "cell_type": "code",
   "execution_count": 219,
   "id": "d91bb7ad",
   "metadata": {},
   "outputs": [
    {
     "name": "stdout",
     "output_type": "stream",
     "text": [
      "Digite um numero: 8\n",
      "Digite outro numero: 3\n",
      "Digite mais um numero: 7\n",
      "Digite o ultimo numero: 9\n",
      "Foram digitados 4 numeros\n",
      "A lista ordenada decrescente : [9, 8, 7, 3]\n",
      "O valor 5 não foi digitado, não está na lista.\n"
     ]
    }
   ],
   "source": [
    "num1 = (int(input('Digite um numero: ')), \n",
    "      int(input('Digite outro numero: ')), \n",
    "      int(input('Digite mais um numero: ')), \n",
    "      int(input('Digite o ultimo numero: ')))\n",
    "num2 = list(num1)\n",
    "num2.sort()\n",
    "print(f'Foram digitados {len(num2)} numeros')\n",
    "print(f'A lista ordenada decrescente : {num2[::-1]}')\n",
    "if 5 in num2:\n",
    "    print('O valor 5 foi digitado, está na lista.')\n",
    "else:\n",
    "    print('O valor 5 não foi digitado, não está na lista.')"
   ]
  },
  {
   "cell_type": "code",
   "execution_count": 226,
   "id": "f29a5252",
   "metadata": {},
   "outputs": [
    {
     "name": "stdout",
     "output_type": "stream",
     "text": [
      "Informe um número: 9\n",
      "Deseja inserir mais um número? (s/n): s\n",
      "Informe um número: 10\n",
      "Deseja inserir mais um número? (s/n): s\n",
      "Informe um número: 15\n",
      "Deseja inserir mais um número? (s/n): s\n",
      "Informe um número: 8\n",
      "Deseja inserir mais um número? (s/n): s\n",
      "Informe um número: 7\n",
      "Deseja inserir mais um número? (s/n): s\n",
      "Informe um número: 6\n",
      "Deseja inserir mais um número? (s/n): n\n",
      "Os números digitados foram: [9, 10, 15, 8, 7, 6]\n",
      "Os valores pares foram: [10, 8, 6]\n",
      "Os valores impares foram: [9, 15, 7]\n"
     ]
    }
   ],
   "source": [
    "valor1 = []\n",
    "valorpar = []\n",
    "valorimpar = []\n",
    "while True:\n",
    "    val = int(input('Informe um número: '))\n",
    "    valor1.append(val)\n",
    "    r = str(input('Deseja inserir mais um número? (s/n): ')).strip().upper()[0]\n",
    "    if 'N' in r:\n",
    "        break\n",
    "for v in valor1:\n",
    "    if v %2 ==0:\n",
    "        valorpar.append(v)\n",
    "    else:\n",
    "        valorimpar.append(v)\n",
    "              \n",
    "            \n",
    "print(f'Os números digitados foram: {valor1}')\n",
    "print(f'Os valores pares foram: {valorpar}')\n",
    "print(f'Os valores impares foram: {valorimpar}')\n",
    "                                                                 "
   ]
  },
  {
   "cell_type": "code",
   "execution_count": 4,
   "id": "6f5caf03",
   "metadata": {},
   "outputs": [
    {
     "name": "stdout",
     "output_type": "stream",
     "text": [
      "Expressão Inválida\n"
     ]
    }
   ],
   "source": [
    "expr = str(input('Digite a expressão: '))\n",
    "pilha = []\n",
    "for simb in expr:\n",
    "    if simb == '(':\n",
    "        pilha.append('(')\n",
    "    elif simb == ')':\n",
    "        if len(pilha) > 0:\n",
    "            pilha.pop()\n",
    "        else:\n",
    "            pilha.append(')')\n",
    "            break\n",
    "if len(pilha) == 0:\n",
    "    print('Expressão válida')\n",
    "else:\n",
    "    print('Expressão Inválida')"
   ]
  },
  {
   "cell_type": "code",
   "execution_count": 23,
   "id": "5bed2ae8",
   "metadata": {},
   "outputs": [
    {
     "name": "stdout",
     "output_type": "stream",
     "text": [
      "[['Leandro', 120.0], ['Melissa', 55.0], ['Joao', 120.0], ['Maria', 55.0]]\n",
      "A) Foram cadastradas 4 pessoas\n",
      "B) O maior peso é 120.0kg, peso de:  Leandro\n",
      "Joao\n",
      "C) O menor peso foi 55.0kg, peso de:  Melissa\n",
      "Maria\n"
     ]
    }
   ],
   "source": [
    "temp = []\n",
    "princ = []\n",
    "maior = 0\n",
    "menor = 0\n",
    "while True:\n",
    "    temp.append(str(input('Digite seu nome: ')))\n",
    "    temp.append(float(input('Infome seu peso: ')))\n",
    "    if len(princ) == 0:\n",
    "        maior = menor = temp[1]\n",
    "    else:\n",
    "        if temp[1] > maior:\n",
    "            maior = temp[1]\n",
    "        elif temp[1] < menor:\n",
    "            menor = temp[1]\n",
    "    princ.append(temp[:])\n",
    "    temp.clear()\n",
    "   # cont+=1\n",
    "    resp = str(input('Deseja continuar? (S/N)')).upper().strip()[0]\n",
    "    if 'N' in resp:\n",
    "        break\n",
    "\n",
    "\n",
    "\n",
    "print(princ)\n",
    "\n",
    "\n",
    "\n",
    "print(f'A) Foram cadastradas {len(princ)} pessoas')\n",
    "print(f'B) O maior peso é {maior}kg, peso de: ', end = ' ')\n",
    "for p in princ:\n",
    "    if p[1] == maior:\n",
    "        print(f'{p[0]}')\n",
    "print(f'C) O menor peso foi {menor}kg, peso de: ', end = ' ')\n",
    "for p in princ:\n",
    "    if p[1] == menor:\n",
    "        print(f'{p[0]}')"
   ]
  },
  {
   "cell_type": "code",
   "execution_count": 25,
   "id": "d212b5e1",
   "metadata": {},
   "outputs": [
    {
     "name": "stdout",
     "output_type": "stream",
     "text": [
      "Os numeros pares são [2, 4, 6, 8]\n",
      "Os impares são [1, 1, 5]\n"
     ]
    }
   ],
   "source": [
    "numers = [[], []]\n",
    "\n",
    "for i in range(7):\n",
    "    num = int(input('Insira um número: '))\n",
    "    if num %2 == 0:\n",
    "        numers[0].append(num)\n",
    "    else:\n",
    "        numers[1].append(num)\n",
    "\n",
    "numers[0].sort()\n",
    "numers[1].sort()\n",
    "\n",
    "print(f'Os numeros pares são {numers[0]}')\n",
    "print(f'Os impares são {numers[1]}')"
   ]
  },
  {
   "cell_type": "code",
   "execution_count": 32,
   "id": "81cd639e",
   "metadata": {},
   "outputs": [
    {
     "name": "stdout",
     "output_type": "stream",
     "text": [
      "-=-=-=-=-=-=-=-=-=-=-=-=-=-=-=-=-=-=-=-=-=-=-=-=-=-=-=-=-=-=-=-=-=-=-=-=-=-=-=-=-=-=-=-=-=-=-=-=-=-=-=-=-=-=-=-=-=-=-=-=\n",
      "[  5  ][  6  ][  2  ]\n",
      "[  5  ][  7  ][  8  ]\n",
      "[  3  ][  1  ][  2  ]\n"
     ]
    }
   ],
   "source": [
    "matriz = [[0,0,0], [0,0,0], [0,0,0]]\n",
    "\n",
    "for l in range(0, 3):\n",
    "    for c in range(0, 3):\n",
    "        matriz[l][c] = int(input(f'Valor para [{l}, {c}]: '))\n",
    "\n",
    "\n",
    "print(f'-=-='* 30)\n",
    "for l in range(0, 3):\n",
    "    for c in range(0, 3):\n",
    "        print(f'[{matriz[l][c]:^5}]', end = '')\n",
    "    print()"
   ]
  },
  {
   "cell_type": "code",
   "execution_count": 42,
   "id": "cf5d76f4",
   "metadata": {},
   "outputs": [
    {
     "name": "stdout",
     "output_type": "stream",
     "text": [
      "-=-=-=-=-=-=-=-=-=-=-=-=-=-=-=-=-=-=-=-=-=-=-=-=-=-=-=-=-=-=-=-=-=-=-=-=-=-=-=-=-=-=-=-=-=-=-=-=-=-=-=-=-=-=-=-=-=-=-=-=\n",
      "[  1  ][  5  ][  6  ]\n",
      "[  8  ][  9  ][  7  ]\n",
      "[  1  ][  5  ][  3  ]\n",
      "-=-=-=-=-=-=-=-=-=-=-=-=-=-=-=-=-=-=-=-=-=-=-=-=-=-=-=-=-=-=-=-=-=-=-=-=-=-=-=-=-=-=-=-=-=-=-=-=-=-=-=-=-=-=-=-=-=-=-=-=\n",
      "A soma dos valores pares é 14\n",
      "A soma dos valores da terceira coluna é 16\n",
      "O maior item da coluna 2 é 9\n"
     ]
    }
   ],
   "source": [
    "matriz = [[0,0,0], [0,0,0], [0,0,0]]\n",
    "spar = mai = scol = 0\n",
    "for l in range(0, 3):\n",
    "    for c in range(0, 3):\n",
    "        matriz[l][c] = int(input(f'Valor para [{l}, {c}]: '))\n",
    "\n",
    "\n",
    "print(f'-=-='* 30)\n",
    "for l in range(0, 3):\n",
    "    for c in range(0, 3):\n",
    "        print(f'[{matriz[l][c]:^5}]', end = '')\n",
    "        if matriz[l][c] %2 == 0:\n",
    "            spar += matriz[l][c]\n",
    "    print()\n",
    "print(f'-=-='* 30)\n",
    "print(f'A soma dos valores pares é {spar}')\n",
    "for l in range(0, 3):\n",
    "    scol += matriz[l][2]\n",
    "print(f'A soma dos valores da terceira coluna é {scol}')\n",
    "for c in range(0, 3):\n",
    "    if c == 0:\n",
    "        mai = matriz[1][c]\n",
    "    elif matriz[1][c] >= mai:\n",
    "        mai = matriz[1][c]\n",
    "print(f'O maior item da coluna 2 é {mai}')"
   ]
  },
  {
   "cell_type": "code",
   "execution_count": 30,
   "id": "a5c47fca",
   "metadata": {},
   "outputs": [
    {
     "name": "stdout",
     "output_type": "stream",
     "text": [
      "Quantos jogos serão feitos: 5\n",
      "-=-=-=-=-=-= SORTEANDO 5 JOGOS  -=-=-=-=-=-=\n",
      "Jogo 1: [27, 28, 32, 50, 52, 57]\n",
      "Jogo 2: [6, 10, 20, 24, 27, 59]\n",
      "Jogo 3: [2, 43, 44, 50, 52, 59]\n",
      "Jogo 4: [10, 16, 31, 39, 53, 56]\n",
      "Jogo 5: [10, 13, 23, 26, 30, 38]\n",
      "-=-=-=-=-=-=-=-= BOA SORTE!! -=-=-=-=-=-=-=-=\n"
     ]
    }
   ],
   "source": [
    "from random import randint\n",
    "from time import sleep\n",
    "jogo = []\n",
    "jogos = []\n",
    "qtd = int(input('Quantos jogos serão feitos: '))\n",
    "tot = 1\n",
    "while tot <= qtd:\n",
    "    cont = 0\n",
    "    while True:\n",
    "        num = randint(1, 60)\n",
    "        if num not in jogo:\n",
    "            jogo.append(num)\n",
    "            cont += 1\n",
    "        if cont >= 6:\n",
    "            break\n",
    "    jogo.sort()         \n",
    "    jogos.append(jogo[:])\n",
    "    jogo.clear()\n",
    "    tot += 1\n",
    "print('-=-='*3, f'SORTEANDO {qtd} JOGOS ', '-=-='*3)    \n",
    "for i, l in enumerate(jogos):\n",
    "    print(f'Jogo {i+1}: {l}')\n",
    "    sleep(1)\n",
    "print('-=-='*4, 'BOA SORTE!!', '-=-='*4)"
   ]
  },
  {
   "cell_type": "code",
   "execution_count": 74,
   "id": "8837c927",
   "metadata": {},
   "outputs": [
    {
     "name": "stdout",
     "output_type": "stream",
     "text": [
      "Nome: Leandro\n",
      "Nota 1: 9\n",
      "Nota 2: 8\n",
      "Quer continuar? (S/N)s\n",
      "Nome: Melissa\n",
      "Nota 1: 10\n",
      "Nota 2: 9.5\n",
      "Quer continuar? (S/N)n\n",
      "-=-=-=-=-=-=-=-=-=-=-=-=-=-=-=-=-=-=-=-=-=-=-=-=-=-=-=-=-=-=\n",
      "No. NOME         MEDIA\n",
      "--------------------------\n",
      "0   Leandro        8.5\n",
      "1   Melissa        9.8\n",
      "-=-=-=-=-=-=-=-=-=-=-=-=-=-=-=-=-=-=-=-=-=-=-=-=-=-=-=-=-=-=-=-=-=-=-=-=-=-=-=-=-=-=-=-=-=-=-=-=-=-=-=-=-=-=-=-=-=-=-=-=-=-=-=-=-=-=-=-=\n",
      "Mostrar notas de qual aluno? (999 interrompe)0\n",
      "Notas de Leandro são [9.0, 8.0]\n",
      "-=-=-=-=-=-=-=-=-=-=-=-=-=-=-=-=-=-=-=-=-=-=-=-=-=-=-=-=-=-=-=-=-=-=-=-=-=-=-=-=-=-=-=-=-=-=-=-=-=-=-=-=-=-=-=-=-=-=-=-=-=-=-=-=-=-=-=-=\n",
      "Mostrar notas de qual aluno? (999 interrompe)1\n",
      "Notas de Melissa são [10.0, 9.5]\n",
      "-=-=-=-=-=-=-=-=-=-=-=-=-=-=-=-=-=-=-=-=-=-=-=-=-=-=-=-=-=-=-=-=-=-=-=-=-=-=-=-=-=-=-=-=-=-=-=-=-=-=-=-=-=-=-=-=-=-=-=-=-=-=-=-=-=-=-=-=\n",
      "Mostrar notas de qual aluno? (999 interrompe)999\n",
      "Finalizando\n"
     ]
    }
   ],
   "source": [
    "classe = []\n",
    "nota1 = nota2 = 0\n",
    "\n",
    "while True:\n",
    "    nome = str(input('Nome: '))\n",
    "    nota1 = float(input('Nota 1: '))\n",
    "    nota2 = float(input('Nota 2: '))\n",
    "    media = (nota1 + nota2)/2\n",
    "    classe.append([nome, [nota1, nota2], media])    \n",
    "    resp = str(input('Quer continuar? (S/N)')).upper().strip()[0]\n",
    "    if 'N' in resp:\n",
    "        break\n",
    "print('-='*30)\n",
    "print(f'{\"No.\":<4}{\"NOME\":<10}{\"MEDIA\":>8}')\n",
    "print('-'*26)   \n",
    "for i, a in enumerate(classe):\n",
    "    print(f'{i:<4}{a[0]:<10}{a[2]:>8.1f}')\n",
    "while True:\n",
    "    print('-=-='*34)\n",
    "    opc = int(input('Mostrar notas de qual aluno? (999 interrompe)'))\n",
    "    if opc == 999:\n",
    "        print('Finalizando')\n",
    "        break\n",
    "    if opc <= len(classe) - 1:\n",
    "        print(f'Notas de {classe[opc][0]} são {classe[opc][1]}')"
   ]
  },
  {
   "cell_type": "code",
   "execution_count": 81,
   "id": "8ffe20a5",
   "metadata": {},
   "outputs": [
    {
     "name": "stdout",
     "output_type": "stream",
     "text": [
      "Minhas fontes dizem que SIM\n"
     ]
    }
   ],
   "source": [
    "from random import randint\n",
    "resp = randint(1, 8)\n",
    "\n",
    "if resp == 1:\n",
    "    print('Não conte com isso!')\n",
    "elif resp == 2:\n",
    "    print('Minhas fontes dizem NÃO')\n",
    "elif resp == 3:\n",
    "    print('Certeza que sim!!')\n",
    "elif resp == 4:\n",
    "    print('Pergunte Novamente')\n",
    "elif resp == 5:\n",
    "    print('Parece que sim')\n",
    "elif resp == 6:\n",
    "    print('As Chances não são boas')\n",
    "elif resp == 7:\n",
    "    print('Não sei dizer agora')\n",
    "elif resp == 8:\n",
    "    print('Minhas fontes dizem que SIM')"
   ]
  },
  {
   "cell_type": "code",
   "execution_count": 96,
   "id": "e59bbdd7",
   "metadata": {},
   "outputs": [
    {
     "name": "stdout",
     "output_type": "stream",
     "text": [
      "Nome: Leandro\n",
      "Média de Leandro: 9\n",
      "-=-=-=-=-=-=-=-=-=-=-=-=-=-=-=-=-=-=-=-=-=-=-=-=-=-=-=-=-=-=-=-=-=-=-=-=-=-=-=-=-=-=-=-=-=\n",
      "nome é igual a Leandro\n",
      "média é igual a 9.0\n",
      "situação é igual a APROVADO\n"
     ]
    }
   ],
   "source": [
    "aluno = dict()\n",
    "aluno['nome'] = str(input('Nome: '))\n",
    "aluno['média'] = float(input(f'Média de {aluno[\"nome\"]}: '))\n",
    "if aluno['média'] >= 7:\n",
    "    aluno['situação'] = 'APROVADO'\n",
    "elif 5 <= aluno['média'] < 7:\n",
    "    aluno['situação'] = 'Recuperação'\n",
    "else: \n",
    "    aluno['situação'] = 'Reprovado'\n",
    "print('-=-=-='*15)\n",
    "for k, v in aluno.items():\n",
    "    print(f'{k} é igual a {v}')"
   ]
  },
  {
   "cell_type": "code",
   "execution_count": 181,
   "id": "1944f995",
   "metadata": {},
   "outputs": [
    {
     "name": "stdout",
     "output_type": "stream",
     "text": [
      "Valores Sorteados:\n",
      "jogador1 é igual a 6\n",
      "jogador2 é igual a 4\n",
      "jogador3 é igual a 1\n",
      "jogador4 é igual a 4\n",
      "-=-=-=-=-=-=-=-=-=-=-=-=-=-=-=-=-=-=-=-=-=-=-=-=\n",
      "         RANKING         \n",
      "-=-=-=-=-=-=-=-=-=-=-=-=-=-=-=-=-=-=-=-=-=-=-=-=\n",
      "1º lugar: jogador1 com 6.\n",
      "2º lugar: jogador2 com 4.\n",
      "3º lugar: jogador4 com 4.\n",
      "4º lugar: jogador3 com 1.\n"
     ]
    }
   ],
   "source": [
    "from random import randint\n",
    "from time import sleep\n",
    "from operator import itemgetter\n",
    "jogo = {'jogador1': randint(1, 6), 'jogador2': randint(1, 6), \n",
    "        'jogador3': randint(1, 6), 'jogador4': randint(1, 6)}\n",
    "ranking = list()\n",
    "print('Valores Sorteados:')\n",
    "for k, v in jogo.items():\n",
    "    print(f'{k} é igual a {v}')\n",
    "    sleep(1)\n",
    "    ranking = sorted(jogo.items(), key=itemgetter(1), reverse=True)\n",
    "print('-=-='*12)\n",
    "print('         RANKING         ')\n",
    "print('-=-='*12)\n",
    "for i, v in enumerate(ranking):\n",
    "    print(f'{i+1}º lugar: {v[0]} com {v[1]}.')\n",
    "    sleep(1)"
   ]
  },
  {
   "cell_type": "code",
   "execution_count": 202,
   "id": "525fed4a",
   "metadata": {},
   "outputs": [
    {
     "name": "stdout",
     "output_type": "stream",
     "text": [
      "Nome: Joao\n",
      "Ano de Nascimento: 1978\n",
      "CTPS: (0 nao tem) 18551\n",
      "Ano de Contratação: 2000\n",
      "Salário: R$1000\n",
      "-=-=-=-=-=-=-=-=-=-=-=-=-=-=-=-=-=-=-=-=-=-=-=-=-=-=-=-=-=-=-=-=-=-=-=-=-=-=-=-=-=-=-=-=-=-=-=-=-=-=-=-=-=-=-=-=-=-=-=-=\n",
      "   - nome tem valor Joao\n",
      "   - idade tem valor 45\n",
      "   - CTPS tem valor 18551\n",
      "   - contrataçao tem valor 2000\n",
      "   - salario tem valor 1000.0\n",
      "   - aposentadoria tem valor 57\n"
     ]
    }
   ],
   "source": [
    "import datetime\n",
    "dados = dict()\n",
    "dados['nome'] = str(input('Nome: '))\n",
    "nasc = int(input('Ano de Nascimento: '))\n",
    "dados['idade'] = datetime.date.today().year - nasc\n",
    "dados['CTPS'] = int(input('CTPS: (0 nao tem) '))\n",
    "if dados['CTPS'] != 0:\n",
    "    dados['contrataçao'] = int(input('Ano de Contratação: '))\n",
    "    dados['salario'] = float(input('Salário: R$'))\n",
    "    dados['aposentadoria'] = dados['idade'] + ((dados['contrataçao'] + 35) - datetime.date.today().year)\n",
    "\n",
    "print('-=-='*30)   \n",
    "for k, v in dados.items():\n",
    "    print(f'   - {k} tem valor {v}')"
   ]
  },
  {
   "cell_type": "code",
   "execution_count": 206,
   "id": "be029120",
   "metadata": {},
   "outputs": [
    {
     "ename": "KeyboardInterrupt",
     "evalue": "Interrupted by user",
     "output_type": "error",
     "traceback": [
      "\u001b[1;31m---------------------------------------------------------------------------\u001b[0m",
      "\u001b[1;31mKeyboardInterrupt\u001b[0m                         Traceback (most recent call last)",
      "\u001b[1;32m~\\AppData\\Local\\Temp\\ipykernel_5436\\1323047269.py\u001b[0m in \u001b[0;36m<module>\u001b[1;34m\u001b[0m\n\u001b[0;32m      1\u001b[0m \u001b[0mjogador\u001b[0m \u001b[1;33m=\u001b[0m \u001b[0mdict\u001b[0m\u001b[1;33m(\u001b[0m\u001b[1;33m)\u001b[0m\u001b[1;33m\u001b[0m\u001b[1;33m\u001b[0m\u001b[0m\n\u001b[0;32m      2\u001b[0m \u001b[1;33m\u001b[0m\u001b[0m\n\u001b[1;32m----> 3\u001b[1;33m \u001b[0mjogador\u001b[0m\u001b[1;33m[\u001b[0m\u001b[1;34m'Nome'\u001b[0m\u001b[1;33m]\u001b[0m \u001b[1;33m=\u001b[0m \u001b[0minput\u001b[0m\u001b[1;33m(\u001b[0m\u001b[1;34m'Nome: '\u001b[0m\u001b[1;33m)\u001b[0m\u001b[1;33m\u001b[0m\u001b[1;33m\u001b[0m\u001b[0m\n\u001b[0m\u001b[0;32m      4\u001b[0m \u001b[0mjogador\u001b[0m\u001b[1;33m[\u001b[0m\u001b[1;34m'Partidas'\u001b[0m\u001b[1;33m]\u001b[0m \u001b[1;33m=\u001b[0m \u001b[0mint\u001b[0m\u001b[1;33m(\u001b[0m\u001b[0minput\u001b[0m\u001b[1;33m(\u001b[0m\u001b[1;34m'No de Partidas: '\u001b[0m\u001b[1;33m)\u001b[0m\u001b[1;33m)\u001b[0m\u001b[1;33m\u001b[0m\u001b[1;33m\u001b[0m\u001b[0m\n\u001b[0;32m      5\u001b[0m \u001b[0mjogador\u001b[0m\u001b[1;33m[\u001b[0m\u001b[1;34m'Gols'\u001b[0m\u001b[1;33m]\u001b[0m \u001b[1;33m=\u001b[0m \u001b[0mint\u001b[0m\u001b[1;33m(\u001b[0m\u001b[0minput\u001b[0m\u001b[1;33m(\u001b[0m\u001b[1;34m'Gols por partida: '\u001b[0m\u001b[1;33m)\u001b[0m\u001b[1;33m)\u001b[0m\u001b[1;33m\u001b[0m\u001b[1;33m\u001b[0m\u001b[0m\n",
      "\u001b[1;32m~\\anaconda3\\lib\\site-packages\\ipykernel\\kernelbase.py\u001b[0m in \u001b[0;36mraw_input\u001b[1;34m(self, prompt)\u001b[0m\n\u001b[0;32m   1175\u001b[0m                 \u001b[1;34m\"raw_input was called, but this frontend does not support input requests.\"\u001b[0m\u001b[1;33m\u001b[0m\u001b[1;33m\u001b[0m\u001b[0m\n\u001b[0;32m   1176\u001b[0m             )\n\u001b[1;32m-> 1177\u001b[1;33m         return self._input_request(\n\u001b[0m\u001b[0;32m   1178\u001b[0m             \u001b[0mstr\u001b[0m\u001b[1;33m(\u001b[0m\u001b[0mprompt\u001b[0m\u001b[1;33m)\u001b[0m\u001b[1;33m,\u001b[0m\u001b[1;33m\u001b[0m\u001b[1;33m\u001b[0m\u001b[0m\n\u001b[0;32m   1179\u001b[0m             \u001b[0mself\u001b[0m\u001b[1;33m.\u001b[0m\u001b[0m_parent_ident\u001b[0m\u001b[1;33m[\u001b[0m\u001b[1;34m\"shell\"\u001b[0m\u001b[1;33m]\u001b[0m\u001b[1;33m,\u001b[0m\u001b[1;33m\u001b[0m\u001b[1;33m\u001b[0m\u001b[0m\n",
      "\u001b[1;32m~\\anaconda3\\lib\\site-packages\\ipykernel\\kernelbase.py\u001b[0m in \u001b[0;36m_input_request\u001b[1;34m(self, prompt, ident, parent, password)\u001b[0m\n\u001b[0;32m   1217\u001b[0m             \u001b[1;32mexcept\u001b[0m \u001b[0mKeyboardInterrupt\u001b[0m\u001b[1;33m:\u001b[0m\u001b[1;33m\u001b[0m\u001b[1;33m\u001b[0m\u001b[0m\n\u001b[0;32m   1218\u001b[0m                 \u001b[1;31m# re-raise KeyboardInterrupt, to truncate traceback\u001b[0m\u001b[1;33m\u001b[0m\u001b[1;33m\u001b[0m\u001b[0m\n\u001b[1;32m-> 1219\u001b[1;33m                 \u001b[1;32mraise\u001b[0m \u001b[0mKeyboardInterrupt\u001b[0m\u001b[1;33m(\u001b[0m\u001b[1;34m\"Interrupted by user\"\u001b[0m\u001b[1;33m)\u001b[0m \u001b[1;32mfrom\u001b[0m \u001b[1;32mNone\u001b[0m\u001b[1;33m\u001b[0m\u001b[1;33m\u001b[0m\u001b[0m\n\u001b[0m\u001b[0;32m   1220\u001b[0m             \u001b[1;32mexcept\u001b[0m \u001b[0mException\u001b[0m\u001b[1;33m:\u001b[0m\u001b[1;33m\u001b[0m\u001b[1;33m\u001b[0m\u001b[0m\n\u001b[0;32m   1221\u001b[0m                 \u001b[0mself\u001b[0m\u001b[1;33m.\u001b[0m\u001b[0mlog\u001b[0m\u001b[1;33m.\u001b[0m\u001b[0mwarning\u001b[0m\u001b[1;33m(\u001b[0m\u001b[1;34m\"Invalid Message:\"\u001b[0m\u001b[1;33m,\u001b[0m \u001b[0mexc_info\u001b[0m\u001b[1;33m=\u001b[0m\u001b[1;32mTrue\u001b[0m\u001b[1;33m)\u001b[0m\u001b[1;33m\u001b[0m\u001b[1;33m\u001b[0m\u001b[0m\n",
      "\u001b[1;31mKeyboardInterrupt\u001b[0m: Interrupted by user"
     ]
    }
   ],
   "source": [
    "jogador = dict()\n",
    "\n",
    "jogador['Nome'] = input('Nome: ')\n",
    "jogador['Partidas'] = int(input('No de Partidas: '))\n",
    "jogador['Gols'] = int(input('Gols por partida: '))\n",
    "jogador ['golscamp'] = jogador['Gols'] * jogador['Partidas']\n",
    "\n",
    "print('-=-='*15)\n",
    "for k, v in jogador.items():\n",
    "    print(f'{k} tem valor {v}')\n"
   ]
  },
  {
   "cell_type": "code",
   "execution_count": 235,
   "id": "aa1e29ce",
   "metadata": {},
   "outputs": [
    {
     "name": "stdout",
     "output_type": "stream",
     "text": [
      "Nome: gaberi\n",
      "Quantas partidas gaberi jogou2\n",
      "Qualtos gols na partida 1?1\n",
      "Qualtos gols na partida 2?2\n",
      "{'Nome': 'gaberi', 'gols': [1, 2], 'total': 3}\n",
      "-=-=-=-=-=-=-=-=-=-=-=-=-=-=-=-=-=-=-=-=-=-=-=-=-=-=-=-=-=-=\n",
      "Nome tem valor gaberi\n",
      "gols tem valor [1, 2]\n",
      "total tem valor 3\n",
      "O jogadorgaberi jogou 2 partidas\n",
      "      => Na partida 1, fez 1 gols\n",
      "      => Na partida 2, fez 2 gols\n",
      "Foi um total de 3 gols\n"
     ]
    }
   ],
   "source": [
    "jogador = dict()\n",
    "partidas = list()\n",
    "\n",
    "jogador['Nome'] = str(input('Nome: '))\n",
    "tot = int(input(f'Quantas partidas {jogador[\"Nome\"]} jogou'))\n",
    "for c in range(tot):\n",
    "    partidas.append(int(input(f'Quantos gols na partida {c+1}?')))\n",
    "    \n",
    "jogador['gols'] = partidas[:]\n",
    "jogador['total'] = sum(partidas)\n",
    "print(jogador)\n",
    "\n",
    "print('-='*30)\n",
    "for k, v in jogador.items():\n",
    "    print(f'{k} tem valor {v}')\n",
    "    \n",
    "print(f'O jogador{jogador[\"Nome\"]} jogou {len(jogador[\"gols\"])} partidas')\n",
    "for i, v in enumerate(jogador['gols']):\n",
    "      print(f'      => Na partida {i+1}, fez {v} gols')\n",
    "print(f'Foi um total de {jogador[\"total\"]} gols')"
   ]
  },
  {
   "cell_type": "code",
   "execution_count": 1,
   "id": "1143437f",
   "metadata": {
    "scrolled": true
   },
   "outputs": [
    {
     "name": "stdout",
     "output_type": "stream",
     "text": [
      "Nome: Meliss\n",
      "Sexo: f\n",
      "Idade: 32\n",
      "Quer continuar? (S/N) s\n",
      "Nome: Angelica\n",
      "Sexo: F\n",
      "Idade: 35\n",
      "Quer continuar? (S/N) n\n",
      "[{'nome': 'Meliss', 'sexo': 'F', 'idade': 32}, {'nome': 'Angelica', 'sexo': 'F', 'idade': 35}]\n",
      "A) Foram cadastradas 2 pessoas\n",
      "B) A média das idades é 33.50\n",
      "C) As mulheres cadastradas foram  Meliss |Angelica |\n",
      "D) As pessoas que estão acima da média:      \n",
      "nome = Angelica; sexo = F; idade = 35; \n",
      "<< ENCERRADO >>\n"
     ]
    }
   ],
   "source": [
    "cad = dict()\n",
    "grupo = list()\n",
    "soma = media = 0\n",
    "while True:\n",
    "    cad.clear()\n",
    "    cad['nome'] = str(input('Nome: '))\n",
    "    while True:\n",
    "        cad['sexo'] = str(input('Sexo: ')).upper().strip()[0]\n",
    "        if cad['sexo'] in 'MF':\n",
    "            break\n",
    "        print('ERRO! Por favor, apeanas M ou F')\n",
    "    cad['idade'] = int(input('Idade: '))\n",
    "    soma += cad['idade']\n",
    "    grupo.append(cad.copy())\n",
    "    while True:\n",
    "        resp = str(input('Quer continuar? (S/N) ')).upper().strip()[0]  \n",
    "        if resp in 'SN':\n",
    "            break\n",
    "        print('Erro! Apenas S ou N')\n",
    "    if resp == 'N':\n",
    "        break\n",
    "print(grupo)\n",
    "media = soma/ len(grupo)\n",
    " \n",
    "print(f'A) Foram cadastradas {len(grupo)} pessoas')\n",
    "print(f'B) A média das idades é {media:5.2f}')\n",
    "print('C) As mulheres cadastradas foram ', end = ' ')\n",
    "for p in grupo:\n",
    "    if p['sexo'] in 'F':\n",
    "        print(f'{p[\"nome\"]} |', end='')\n",
    "print()\n",
    "print('D) As pessoas que estão acima da média: ', end='')\n",
    "for idade in grupo:\n",
    "    if idade['idade'] >= media:\n",
    "        print('     ')\n",
    "        for k, v in idade.items():\n",
    "            print(f'{k} = {v}; ', end= '')\n",
    "        \n",
    "print()\n",
    "print('<< ENCERRADO >>')\n",
    "\n"
   ]
  },
  {
   "cell_type": "code",
   "execution_count": 7,
   "id": "381853f3",
   "metadata": {},
   "outputs": [
    {
     "name": "stdout",
     "output_type": "stream",
     "text": [
      "Nome: Gabi\n",
      "Quantas partidas Gabi jogou3\n",
      "Quantos gols na partida 1?1\n",
      "Quantos gols na partida 2?2\n",
      "Quantos gols na partida 3?2\n",
      "Quer continuar? (S/N) s\n",
      "Nome: fer\n",
      "Quantas partidas fer jogou2\n",
      "Quantos gols na partida 1?3\n",
      "Quantos gols na partida 2?1\n",
      "Quer continuar? (S/N) n\n",
      "[{'Nome': 'Gabi', 'gols': [1, 2, 2], 'total': 5}, {'Nome': 'fer', 'gols': [3, 1], 'total': 4}]\n",
      "-=-=-=-=-=-=-=-=-=-=-=-=-=-=-=-=-=-=-=-=-=-=-=-=-=-=-=-=-=-=\n"
     ]
    },
    {
     "ename": "AttributeError",
     "evalue": "'list' object has no attribute 'items'",
     "output_type": "error",
     "traceback": [
      "\u001b[1;31m---------------------------------------------------------------------------\u001b[0m",
      "\u001b[1;31mAttributeError\u001b[0m                            Traceback (most recent call last)",
      "\u001b[1;32m~\\AppData\\Local\\Temp\\ipykernel_25596\\131270402.py\u001b[0m in \u001b[0;36m<module>\u001b[1;34m\u001b[0m\n\u001b[0;32m     23\u001b[0m \u001b[0mprint\u001b[0m\u001b[1;33m(\u001b[0m\u001b[0mtime\u001b[0m\u001b[1;33m)\u001b[0m\u001b[1;33m\u001b[0m\u001b[1;33m\u001b[0m\u001b[0m\n\u001b[0;32m     24\u001b[0m \u001b[0mprint\u001b[0m\u001b[1;33m(\u001b[0m\u001b[1;34m'-='\u001b[0m\u001b[1;33m*\u001b[0m\u001b[1;36m30\u001b[0m\u001b[1;33m)\u001b[0m\u001b[1;33m\u001b[0m\u001b[1;33m\u001b[0m\u001b[0m\n\u001b[1;32m---> 25\u001b[1;33m \u001b[1;32mfor\u001b[0m \u001b[0mk\u001b[0m\u001b[1;33m,\u001b[0m \u001b[0mv\u001b[0m \u001b[1;32min\u001b[0m \u001b[0mtime\u001b[0m\u001b[1;33m.\u001b[0m\u001b[0mitems\u001b[0m\u001b[1;33m(\u001b[0m\u001b[1;33m)\u001b[0m\u001b[1;33m:\u001b[0m\u001b[1;33m\u001b[0m\u001b[1;33m\u001b[0m\u001b[0m\n\u001b[0m\u001b[0;32m     26\u001b[0m     \u001b[0mprint\u001b[0m\u001b[1;33m(\u001b[0m\u001b[1;34mf'{k} tem valor {v}'\u001b[0m\u001b[1;33m)\u001b[0m\u001b[1;33m\u001b[0m\u001b[1;33m\u001b[0m\u001b[0m\n\u001b[0;32m     27\u001b[0m \u001b[1;33m\u001b[0m\u001b[0m\n",
      "\u001b[1;31mAttributeError\u001b[0m: 'list' object has no attribute 'items'"
     ]
    }
   ],
   "source": [
    "time = list()\n",
    "jogador = dict()\n",
    "partidas = list()\n",
    "while True:\n",
    "    jogador.clear()\n",
    "    partidas.clear()\n",
    "    jogador['Nome'] = str(input('Nome: '))\n",
    "    tot = int(input(f'Quantas partidas {jogador[\"Nome\"]} jogou'))\n",
    "    for c in range(tot):\n",
    "        partidas.append(int(input(f'Quantos gols na partida {c+1}?')))\n",
    "\n",
    "    jogador['gols'] = partidas[:]\n",
    "    jogador['total'] = sum(partidas)\n",
    "    time.append(jogador.copy())\n",
    "    while True:\n",
    "        resp = str(input('Quer continuar? (S/N) ')).upper().strip()[0]  \n",
    "        if resp in 'SN':\n",
    "            break\n",
    "        print('Erro! Apenas S ou N')\n",
    "    if resp == 'N':\n",
    "        break\n",
    "    #print(jogador)\n",
    "print(time)\n",
    "print('-='*30)\n",
    "for item in time:\n",
    "    for k, v in time.items():\n",
    "        print(f'{k} tem valor {v}')\n",
    "    \n",
    "print(f'O jogador{time[\"Nome\"]} jogou {len(time[\"gols\"])} partidas')\n",
    "for i, v in enumerate(time['gols']):\n",
    "      print(f'      => Na partida {i+1}, fez {v} gols')\n",
    "print(f'Foi um total de {time[\"total\"]} gols')"
   ]
  },
  {
   "cell_type": "code",
   "execution_count": 1,
   "id": "4cfb4a84",
   "metadata": {},
   "outputs": [
    {
     "data": {
      "text/plain": [
       "40"
      ]
     },
     "execution_count": 1,
     "metadata": {},
     "output_type": "execute_result"
    }
   ],
   "source": [
    "def area(x, y):\n",
    "    area = x*y\n",
    "    return area\n",
    "\n",
    "area(5, 8)"
   ]
  },
  {
   "cell_type": "code",
   "execution_count": 10,
   "id": "2f9e3af3",
   "metadata": {},
   "outputs": [
    {
     "name": "stdout",
     "output_type": "stream",
     "text": [
      "~~~~~~~~~~~~~~~~~~~~~~~~~~~~\n",
      "  Olá Mundo, sou o leandro\n",
      "~~~~~~~~~~~~~~~~~~~~~~~~~~~~\n"
     ]
    }
   ],
   "source": [
    "def escreva(texto):\n",
    "    tam = len(texto) + 4\n",
    "    print('~'*tam)\n",
    "    print(F'  {texto}')\n",
    "    print('~'*tam)\n",
    "\n",
    "escreva('Olá Mundo, sou o leandro')"
   ]
  },
  {
   "cell_type": "code",
   "execution_count": 22,
   "id": "071e657c",
   "metadata": {},
   "outputs": [
    {
     "name": "stdout",
     "output_type": "stream",
     "text": [
      "1\n",
      "2\n",
      "3\n",
      "4\n",
      "5\n",
      "6\n",
      "7\n",
      "8\n",
      "9\n",
      "10\n",
      "10\n",
      "8\n",
      "6\n",
      "4\n",
      "2\n",
      "20\n",
      "35\n",
      "50\n",
      "65\n",
      "80\n",
      "95\n"
     ]
    }
   ],
   "source": [
    "def contador(a, b, c):\n",
    "    for i in range(a, b, c):\n",
    "        print(i)\n",
    "        \n",
    "contador(1, 11, 1)\n",
    "contador(10, 0, -2)\n",
    "contador(20, 100, 15)"
   ]
  },
  {
   "cell_type": "code",
   "execution_count": 36,
   "id": "a6770f50",
   "metadata": {},
   "outputs": [
    {
     "name": "stdout",
     "output_type": "stream",
     "text": [
      "Contagem de 1 até 10 de 1 em 1\n",
      "1 - 2 - 3 - 4 - 5 - 6 - 7 - 8 - 9 - 10 - FIM\n",
      "Contagem de 10 até 0 de 2 em 2\n",
      "10 - 8 - 6 - 4 - 2 - 0 - FIM\n",
      "Contagem de 20 até 100 de 15 em 15\n",
      "20 - 35 - 50 - 65 - 80 - 95 - FIM\n"
     ]
    }
   ],
   "source": [
    "def contador(i, f, p):\n",
    "    print(f'Contagem de {i} até {f} de {p} em {p}')\n",
    "    \n",
    "    if i < f:\n",
    "        cont = i\n",
    "        while cont <= f:\n",
    "            print(f'{cont} - ', end='')\n",
    "            cont += p\n",
    "        print('FIM')\n",
    "    else:\n",
    "        cont = i\n",
    "        while cont >= f:\n",
    "            print(f'{cont} - ', end='')\n",
    "            cont -= p\n",
    "        print('FIM')\n",
    "    \n",
    "contador(1, 10, 1)\n",
    "contador(10, 0, 2)\n",
    "contador(20, 100, 15)"
   ]
  },
  {
   "cell_type": "code",
   "execution_count": 38,
   "id": "d05d4db4",
   "metadata": {},
   "outputs": [
    {
     "name": "stdout",
     "output_type": "stream",
     "text": [
      "O número 72 é maior que 25 e 6\n"
     ]
    }
   ],
   "source": [
    "def maior(a, b, c):\n",
    "    if a > b and a > c:\n",
    "        print(f'O número {a} é maior que {b} e {c}')\n",
    "    elif b > a and b > c:\n",
    "        print(f'O número {b} é maior que {a} e {c}')\n",
    "    elif c > b and c > a:\n",
    "        print(f'O número {c} é maior que {b} e {a}')\n",
    "        \n",
    "        \n",
    "        \n",
    "maior(25,72,6)"
   ]
  },
  {
   "cell_type": "code",
   "execution_count": 80,
   "id": "29f7820c",
   "metadata": {},
   "outputs": [
    {
     "name": "stdout",
     "output_type": "stream",
     "text": [
      "[6, 9, 8, 4, 7]\n",
      "18\n"
     ]
    }
   ],
   "source": [
    "from random import randint\n",
    "def sorteia(lista):\n",
    "    for cont in range(0, 5):\n",
    "        lista.append(randint(1, 10))\n",
    "    print(lista)\n",
    "def somaPar(lista):\n",
    "    soma = 0\n",
    "    for valor in lista:\n",
    "        if valor %2 == 0:\n",
    "            soma += valor\n",
    "    print(soma)\n",
    "\n",
    "numeros = list()\n",
    "sorteia(numeros)\n",
    "somaPar(numeros)\n",
    "\n",
    "\n"
   ]
  },
  {
   "cell_type": "code",
   "execution_count": 81,
   "id": "0711f068",
   "metadata": {},
   "outputs": [
    {
     "name": "stdout",
     "output_type": "stream",
     "text": [
      "\n",
      "Welcome to Python 3.9's help utility!\n",
      "\n",
      "If this is your first time using Python, you should definitely check out\n",
      "the tutorial on the Internet at https://docs.python.org/3.9/tutorial/.\n",
      "\n",
      "Enter the name of any module, keyword, or topic to get help on writing\n",
      "Python programs and using Python modules.  To quit this help utility and\n",
      "return to the interpreter, just type \"quit\".\n",
      "\n",
      "To get a list of available modules, keywords, symbols, or topics, type\n",
      "\"modules\", \"keywords\", \"symbols\", or \"topics\".  Each module also comes\n",
      "with a one-line summary of what it does; to list the modules whose name\n",
      "or summary contain a given string such as \"spam\", type \"modules spam\".\n",
      "\n",
      "help> print\n",
      "Help on built-in function print in module builtins:\n",
      "\n",
      "print(...)\n",
      "    print(value, ..., sep=' ', end='\\n', file=sys.stdout, flush=False)\n",
      "    \n",
      "    Prints the values to a stream, or to sys.stdout by default.\n",
      "    Optional keyword arguments:\n",
      "    file:  a file-like object (stream); defaults to the current sys.stdout.\n",
      "    sep:   string inserted between values, default a space.\n",
      "    end:   string appended after the last value, default a newline.\n",
      "    flush: whether to forcibly flush the stream.\n",
      "\n",
      "help> while\n",
      "The \"while\" statement\n",
      "*********************\n",
      "\n",
      "The \"while\" statement is used for repeated execution as long as an\n",
      "expression is true:\n",
      "\n",
      "   while_stmt ::= \"while\" assignment_expression \":\" suite\n",
      "                  [\"else\" \":\" suite]\n",
      "\n",
      "This repeatedly tests the expression and, if it is true, executes the\n",
      "first suite; if the expression is false (which may be the first time\n",
      "it is tested) the suite of the \"else\" clause, if present, is executed\n",
      "and the loop terminates.\n",
      "\n",
      "A \"break\" statement executed in the first suite terminates the loop\n",
      "without executing the \"else\" clause’s suite.  A \"continue\" statement\n",
      "executed in the first suite skips the rest of the suite and goes back\n",
      "to testing the expression.\n",
      "\n",
      "Related help topics: break, continue, if, TRUTHVALUE\n",
      "\n",
      "help> len\n",
      "Help on built-in function len in module builtins:\n",
      "\n",
      "len(obj, /)\n",
      "    Return the number of items in a container.\n",
      "\n",
      "help> \n",
      "\n",
      "You are now leaving help and returning to the Python interpreter.\n",
      "If you want to ask for help on a particular object directly from the\n",
      "interpreter, you can type \"help(object)\".  Executing \"help('string')\"\n",
      "has the same effect as typing a particular string at the help> prompt.\n"
     ]
    }
   ],
   "source": [
    "help()"
   ]
  },
  {
   "cell_type": "code",
   "execution_count": 91,
   "id": "89eda764",
   "metadata": {},
   "outputs": [
    {
     "name": "stdout",
     "output_type": "stream",
     "text": [
      "120\n"
     ]
    }
   ],
   "source": [
    "def fatorial(num = 1):\n",
    "    f = 1\n",
    "    for c in range(num, 0 , -1):\n",
    "        f *= c\n",
    "    return f\n",
    "\n",
    "\n",
    "print(fatorial(5))"
   ]
  },
  {
   "cell_type": "code",
   "execution_count": 120,
   "id": "16f6948c",
   "metadata": {},
   "outputs": [
    {
     "name": "stdout",
     "output_type": "stream",
     "text": [
      "Qual a idade do eleitor: 16\n",
      "Pela idade o eleitor tem voto Opcional\n"
     ]
    }
   ],
   "source": [
    "def voto(idade):\n",
    "    voto = ''\n",
    "    if idade >= 18:\n",
    "        voto = 'Obrigatório'\n",
    "    elif idade >= 16:\n",
    "        voto = 'Opcional'\n",
    "    else:\n",
    "        voto = 'Negado'\n",
    "    return voto\n",
    "        \n",
    "idade = int(input('Qual a idade do eleitor: '))\n",
    "print(f'Pela idade o eleitor tem voto {voto(idade)}')\n",
    "        "
   ]
  },
  {
   "cell_type": "code",
   "execution_count": 125,
   "id": "19c92405",
   "metadata": {},
   "outputs": [
    {
     "name": "stdout",
     "output_type": "stream",
     "text": [
      "120\n"
     ]
    }
   ],
   "source": [
    "def factorial(num = 1, show = False):\n",
    "    f = 1\n",
    "    for c in range(num, 0 , -1):\n",
    "        if show:\n",
    "            print(c, end='')\n",
    "            if c > 1:\n",
    "                print(' x ', end='')\n",
    "            else:\n",
    "                print(' = ', end='')\n",
    "        f *= c\n",
    "    return f\n",
    "\n",
    "\n",
    "print(factorial(5))"
   ]
  },
  {
   "cell_type": "code",
   "execution_count": 132,
   "id": "71b11c3c",
   "metadata": {},
   "outputs": [
    {
     "name": "stdout",
     "output_type": "stream",
     "text": [
      "Computador diz: Você consegue adivinhar o número que escolhi? \n",
      "Digite a sua escolha: 1\n",
      "A escolha do computador foi 7\n",
      "Você não adivinhou!\n"
     ]
    }
   ],
   "source": [
    "from random import randint\n",
    "computador = randint(1, 10)\n",
    "print('Computador diz: Você consegue adivinhar o número que escolhi? ')\n",
    "usuario = int(input('Digite a sua escolha: '))\n",
    "print(f'A escolha do computador foi {computador}')\n",
    "if usuario == computador:\n",
    "    print('Você adivinhou!!')\n",
    "else:\n",
    "    print('Você não adivinhou!')"
   ]
  },
  {
   "cell_type": "code",
   "execution_count": 4,
   "id": "6d2cde11",
   "metadata": {},
   "outputs": [
    {
     "name": "stdout",
     "output_type": "stream",
     "text": [
      "Nome do Jogador: Felipinho\n",
      "Número de gols: \n",
      "O jogador Felipinho fez 0 gols no campeoato\n"
     ]
    }
   ],
   "source": [
    "def ficha(nome = '<desconhecido>', gols = 0):\n",
    "    print(f'O jogador {nome} fez {gols} gols no campeoato')\n",
    "\n",
    "#principal\n",
    "nome = str(input('Nome do Jogador: '))\n",
    "g = str(input('Número de gols: '))\n",
    "if g.isnumeric():\n",
    "    g = int(g)\n",
    "else:\n",
    "    g = 0\n",
    "if nome.strip() == '':\n",
    "    ficha(gols = g)\n",
    "else:\n",
    "    ficha (nome, g)\n",
    "    "
   ]
  },
  {
   "cell_type": "code",
   "execution_count": 136,
   "id": "06773277",
   "metadata": {},
   "outputs": [
    {
     "name": "stdout",
     "output_type": "stream",
     "text": [
      "Informe qual o carro: Camaro\n",
      "Informe a velocidade do carro: 250\n",
      "Você ultrapassou o limite permitido\n",
      "O valor da sua multa é de: R$1190.00\n"
     ]
    }
   ],
   "source": [
    "limite = 80\n",
    "carro = str(input('Informe qual o carro: '))\n",
    "velocidade_carro = int(input('Informe a velocidade do carro: '))\n",
    "excedente = velocidade_carro - limite\n",
    " \n",
    "if velocidade_carro > 80:\n",
    "    print('Você ultrapassou o limite permitido')\n",
    "    multa = 7 * excedente \n",
    "    print(f'O valor da sua multa é de: R${multa:.2f}')\n",
    "else:\n",
    "    print('Você não foi multado')"
   ]
  },
  {
   "cell_type": "code",
   "execution_count": 8,
   "id": "5fee994f",
   "metadata": {},
   "outputs": [
    {
     "name": "stdout",
     "output_type": "stream",
     "text": [
      "Digite um número: f\n",
      "\u001b[0;31m ERRO! Digite um número inteiro válido.\u001b[m\n",
      "Digite um número: 5.2\n",
      "\u001b[0;31m ERRO! Digite um número inteiro válido.\u001b[m\n",
      "Digite um número: 2\n",
      "Você digitou o número 2\n"
     ]
    }
   ],
   "source": [
    "def leiaInt(msg):\n",
    "    ok = False\n",
    "    valor = 0\n",
    "    while True:\n",
    "        n = str(input(msg))\n",
    "        if n.isnumeric():\n",
    "            valor = int(n)\n",
    "            ok = True\n",
    "        else:\n",
    "            print('\\033[0;31m ERRO! Digite um número inteiro válido.\\033[m')\n",
    "        if ok:\n",
    "            break\n",
    "    return valor\n",
    "\n",
    "n = leiaInt('Digite um número: ')\n",
    "print(f'Você digitou o número {n}')\n"
   ]
  },
  {
   "cell_type": "code",
   "execution_count": 13,
   "id": "91b02919",
   "metadata": {},
   "outputs": [
    {
     "name": "stdout",
     "output_type": "stream",
     "text": [
      "{'total': 4, 'maior': 10, 'menor': 5.5, 'media': 7.375, 'situacao': 'BOA'}\n"
     ]
    }
   ],
   "source": [
    "def notas(*n, sit=False):\n",
    "    r = dict()\n",
    "    r['total'] = len(n)\n",
    "    r['maior'] = max(n)\n",
    "    r['menor'] = min(n)\n",
    "    r['media'] = sum(n)/len(n)\n",
    "    if sit:\n",
    "        if r['media'] >= 7:\n",
    "            r['situacao'] = 'BOA'\n",
    "        elif r['media'] >= 5:\n",
    "            r['situacao'] = 'RAZOAVEL'\n",
    "        else:\n",
    "            r['situacao'] = 'Ruim'\n",
    "    return r\n",
    "\n",
    "resp = notas(7.5, 5.5, 10, 6.5, sit=True)\n",
    "print(resp)\n"
   ]
  },
  {
   "cell_type": "code",
   "execution_count": 1,
   "id": "474d8132",
   "metadata": {},
   "outputs": [
    {
     "name": "stdout",
     "output_type": "stream",
     "text": [
      "~~~~~~~~~~~~~~~~~~~~~~~~~~~\n",
      " SISTEMA DE AJUDA PyHELP\n",
      "~~~~~~~~~~~~~~~~~~~~~~~~~~~\n"
     ]
    },
    {
     "ename": "NameError",
     "evalue": "name 'titulo' is not defined",
     "output_type": "error",
     "traceback": [
      "\u001b[1;31m---------------------------------------------------------------------------\u001b[0m",
      "\u001b[1;31mNameError\u001b[0m                                 Traceback (most recent call last)",
      "Cell \u001b[1;32mIn[1], line 25\u001b[0m\n\u001b[0;32m     23\u001b[0m         \u001b[39mbreak\u001b[39;00m\n\u001b[0;32m     24\u001b[0m     \u001b[39melse\u001b[39;00m:\n\u001b[1;32m---> 25\u001b[0m         ajuda(comando)\n\u001b[0;32m     27\u001b[0m título(\u001b[39m'\u001b[39m\u001b[39mATÉ LOGO\u001b[39m\u001b[39m'\u001b[39m)\n",
      "Cell \u001b[1;32mIn[1], line 12\u001b[0m, in \u001b[0;36majuda\u001b[1;34m(com)\u001b[0m\n\u001b[0;32m     11\u001b[0m \u001b[39mdef\u001b[39;00m \u001b[39majuda\u001b[39m(com):\n\u001b[1;32m---> 12\u001b[0m     titulo(\u001b[39mf\u001b[39m\u001b[39m'\u001b[39m\u001b[39mAcessando o manual do comando \u001b[39m\u001b[39m\\'\u001b[39;00m\u001b[39m{\u001b[39;00mcom\u001b[39m}\u001b[39;00m\u001b[39m\\'\u001b[39;00m\u001b[39m'\u001b[39m)\n\u001b[0;32m     13\u001b[0m     help(com)  \n\u001b[0;32m     14\u001b[0m     sleep(\u001b[39m2\u001b[39m)\n",
      "\u001b[1;31mNameError\u001b[0m: name 'titulo' is not defined"
     ]
    }
   ],
   "source": [
    "from time import sleep\n",
    "\n",
    "    \n",
    "def título(msg):\n",
    "    tam = len(msg) + 4\n",
    "    print('~'*tam)\n",
    "    print(f' {msg}')\n",
    "    print('~'*tam)\n",
    "    sleep(1)\n",
    "    \n",
    "def ajuda(com):\n",
    "    titulo(f'Acessando o manual do comando \\'{com}\\'')\n",
    "    help(com)  \n",
    "    sleep(2)\n",
    "    \n",
    "\n",
    "\n",
    "comando = ''\n",
    "while True:\n",
    "    título('SISTEMA DE AJUDA PyHELP')\n",
    "    comando = str(input('Função ou Biblioteca > '))\n",
    "    if comando.upper() == 'FIM':\n",
    "        break\n",
    "    else:\n",
    "        ajuda(comando)\n",
    "        \n",
    "título('ATÉ LOGO')"
   ]
  },
  {
   "cell_type": "code",
   "execution_count": 40,
   "id": "b581d359",
   "metadata": {},
   "outputs": [
    {
     "name": "stdout",
     "output_type": "stream",
     "text": [
      "Digite um valor: 5\n",
      "O fatorial de 5 é 120\n"
     ]
    }
   ],
   "source": [
    "def fatorial(n):\n",
    "    f = 1\n",
    "    for c in range(1, n+1):\n",
    "        f *= c\n",
    "    return f\n",
    "num = int(input('Digite um valor: '))\n",
    "fat = fatorial(num)\n",
    "print(f'O fatorial de {num} é {fat}')"
   ]
  }
 ],
 "metadata": {
  "kernelspec": {
   "display_name": "Python 3 (ipykernel)",
   "language": "python",
   "name": "python3"
  },
  "language_info": {
   "codemirror_mode": {
    "name": "ipython",
    "version": 3
   },
   "file_extension": ".py",
   "mimetype": "text/x-python",
   "name": "python",
   "nbconvert_exporter": "python",
   "pygments_lexer": "ipython3",
   "version": "3.9.13"
  }
 },
 "nbformat": 4,
 "nbformat_minor": 5
}
